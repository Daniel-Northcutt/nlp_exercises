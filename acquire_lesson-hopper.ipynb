{
 "cells": [
  {
   "cell_type": "markdown",
   "metadata": {},
   "source": [
    "# Data Acquisition with Web Scraping"
   ]
  },
  {
   "cell_type": "code",
   "execution_count": 1,
   "metadata": {},
   "outputs": [],
   "source": [
    "import requests\n",
    "from bs4 import BeautifulSoup\n",
    "import pandas as pd"
   ]
  },
  {
   "cell_type": "markdown",
   "metadata": {},
   "source": [
    "`$ pip install beautifulsoup4`"
   ]
  },
  {
   "cell_type": "markdown",
   "metadata": {},
   "source": [
    "## Soup Methods\n",
    "\n",
    "- `soup.select('.class')`: to get all the elements with class `class`\n",
    "- `soup.select_one('.class')`: to get the first element with class `class`\n",
    "- `soup.h2`: to get the first `h2` element\n",
    "- `soup.find_all('h2')`: to get all the elements with tag name of `h2`\n",
    "- `soup('h2')` : same as `find_all` method above\n",
    "- `soup.find('h2')`: finds the first matching element"
   ]
  },
  {
   "cell_type": "markdown",
   "metadata": {},
   "source": [
    "First make the request. The response is a bunch of html."
   ]
  },
  {
   "cell_type": "code",
   "execution_count": 2,
   "metadata": {
    "scrolled": true
   },
   "outputs": [
    {
     "data": {
      "text/plain": [
       "'<!DOCTYPE html>\\n<html lang=\"en\">\\n<head>\\n    <meta charset=\"UTF-8\">\\n    <meta http-equiv=\"X-UA-Compatible\" content=\"IE=edge\">\\n    <meta name=\"viewport\" content=\"width=device-width, initial-scale=1.0\">\\n    <title>News Example Page</title>\\n    <link href=\"https://unpkg.com/tailwindcss@^2/dist/tailwind.min.css\" rel=\"stylesheet\" />\\n    <link rel=\"stylesheet\" href=\"https://cdn.jsdelivr.net/npm/bootstrap-icons@1.4.1/font/bootstrap-icons.css\" />\\n</head>\\n<body class=\"mx-auto max-w-screen-lg pb-32\">\\n    \\n<h1 class=\"my-5 text-4xl text-center\">News!</h1>\\n<div class=\"my-5 text-red-800 px-5 py-3 bg-red-100 font-bold\">\\n    <p>\\n        <i class=\"bi bi-exclamation-circle text-xl\"></i>\\n        All data on this page is strictly for demonstration purposes and fake.\\n    </p>\\n</div>\\n<div class=\"grid gap-y-12\">\\n    \\n    <div class=\"grid grid-cols-4 gap-x-4 border rounded pr-3 bg-green-50 hover:shadow-lg transition duration-500\">\\n        <img src=\"/static/placeholder.png\" />\\n        <div class=\"col-span-3 space-y-3 py-3\">\\n            <h2 class=\"text-2xl text-green-900\">thank any discuss</h2>\\n            <div class=\"grid grid-cols-2 italic\">\\n                <p> 2002-08-16 </p>\\n                <p class=\"text-right\">By Kristy Turner </p>\\n            </div>\\n            <p>Law nation over great Mr cause. His opportunity building could charge.\\nLook finally stock adult oil various. Writer doctor manage commercial after quickly. Very development claim green challenge they sense.</p>\\n        </div>\\n    </div>\\n    \\n    <div class=\"grid grid-cols-4 gap-x-4 border rounded pr-3 bg-green-50 hover:shadow-lg transition duration-500\">\\n        <img src=\"/static/placeholder.png\" />\\n        <div class=\"col-span-3 space-y-3 py-3\">\\n            <h2 class=\"text-2xl text-green-900\">owner tree organization</h2>\\n            <div class=\"grid grid-cols-2 italic\">\\n                <p> 2015-11-06 </p>\\n                <p class=\"text-right\">By Karen Lopez </p>\\n            </div>\\n            <p>House worker finish everybody oil finally. Glass couple coach away effect pay later. Nation traditional say north back collection.\\nStyle staff fund main. Such meeting husband street day we capital west.</p>\\n        </div>\\n    </div>\\n    \\n    <div class=\"grid grid-cols-4 gap-x-4 border rounded pr-3 bg-green-50 hover:shadow-lg transition duration-500\">\\n        <img src=\"/static/placeholder.png\" />\\n        <div class=\"col-span-3 space-y-3 py-3\">\\n            <h2 class=\"text-2xl text-green-900\">either next market</h2>\\n            <div class=\"grid grid-cols-2 italic\">\\n                <p> 2012-02-06 </p>\\n                <p class=\"text-right\">By Ryan Harris </p>\\n            </div>\\n            <p>Mother data day weight possible dark institution join. Wish material minute blue writer activity. Full although health ten level image.\\nHair site time several education ahead. Hotel want feel student wide so street forward.</p>\\n        </div>\\n    </div>\\n    \\n    <div class=\"grid grid-cols-4 gap-x-4 border rounded pr-3 bg-green-50 hover:shadow-lg transition duration-500\">\\n        <img src=\"/static/placeholder.png\" />\\n        <div class=\"col-span-3 space-y-3 py-3\">\\n            <h2 class=\"text-2xl text-green-900\">picture clearly civil</h2>\\n            <div class=\"grid grid-cols-2 italic\">\\n                <p> 2018-12-30 </p>\\n                <p class=\"text-right\">By Virginia Moss </p>\\n            </div>\\n            <p>Pick agree score later car industry. Line speech dream which feel. Ready toward good smile serious step different assume.\\nScience check may season health discover. Name short fear explain act meet candidate end. Police show writer budget TV teacher hospital.</p>\\n        </div>\\n    </div>\\n    \\n    <div class=\"grid grid-cols-4 gap-x-4 border rounded pr-3 bg-green-50 hover:shadow-lg transition duration-500\">\\n        <img src=\"/static/placeholder.png\" />\\n        <div class=\"col-span-3 space-y-3 py-3\">\\n            <h2 class=\"text-2xl text-green-900\">back case car</h2>\\n            <div class=\"grid grid-cols-2 italic\">\\n                <p> 1987-08-25 </p>\\n                <p class=\"text-right\">By Bruce Mason </p>\\n            </div>\\n            <p>To cut serious company. Already miss personal appear though.\\nEight during process north capital seven. Through address join some way well.</p>\\n        </div>\\n    </div>\\n    \\n    <div class=\"grid grid-cols-4 gap-x-4 border rounded pr-3 bg-green-50 hover:shadow-lg transition duration-500\">\\n        <img src=\"/static/placeholder.png\" />\\n        <div class=\"col-span-3 space-y-3 py-3\">\\n            <h2 class=\"text-2xl text-green-900\">drive card operation</h2>\\n            <div class=\"grid grid-cols-2 italic\">\\n                <p> 1995-03-21 </p>\\n                <p class=\"text-right\">By Bryan Martin </p>\\n            </div>\\n            <p>Whether hold once treat. Traditional agree always company.\\nWatch even career ball only spring interesting. Challenge born old health.</p>\\n        </div>\\n    </div>\\n    \\n    <div class=\"grid grid-cols-4 gap-x-4 border rounded pr-3 bg-green-50 hover:shadow-lg transition duration-500\">\\n        <img src=\"/static/placeholder.png\" />\\n        <div class=\"col-span-3 space-y-3 py-3\">\\n            <h2 class=\"text-2xl text-green-900\">week soon matter</h2>\\n            <div class=\"grid grid-cols-2 italic\">\\n                <p> 1980-01-05 </p>\\n                <p class=\"text-right\">By Christine Wolfe </p>\\n            </div>\\n            <p>City fire majority seat. Indeed sign successful stay.\\nKitchen have partner particularly community move enjoy certain. Feeling election man live.</p>\\n        </div>\\n    </div>\\n    \\n    <div class=\"grid grid-cols-4 gap-x-4 border rounded pr-3 bg-green-50 hover:shadow-lg transition duration-500\">\\n        <img src=\"/static/placeholder.png\" />\\n        <div class=\"col-span-3 space-y-3 py-3\">\\n            <h2 class=\"text-2xl text-green-900\">book actually everything</h2>\\n            <div class=\"grid grid-cols-2 italic\">\\n                <p> 1982-03-23 </p>\\n                <p class=\"text-right\">By Kayla Gonzalez </p>\\n            </div>\\n            <p>Former against theory form group fill. Run return improve. Same age agreement save. Occur six right.\\nGlass bit task poor learn international.</p>\\n        </div>\\n    </div>\\n    \\n    <div class=\"grid grid-cols-4 gap-x-4 border rounded pr-3 bg-green-50 hover:shadow-lg transition duration-500\">\\n        <img src=\"/static/placeholder.png\" />\\n        <div class=\"col-span-3 space-y-3 py-3\">\\n            <h2 class=\"text-2xl text-green-900\">break early fear</h2>\\n            <div class=\"grid grid-cols-2 italic\">\\n                <p> 2018-12-24 </p>\\n                <p class=\"text-right\">By Sara Medina </p>\\n            </div>\\n            <p>Concern significant fall better lawyer help. In moment opportunity long.\\nWalk off effort cover process.</p>\\n        </div>\\n    </div>\\n    \\n    <div class=\"grid grid-cols-4 gap-x-4 border rounded pr-3 bg-green-50 hover:shadow-lg transition duration-500\">\\n        <img src=\"/static/placeholder.png\" />\\n        <div class=\"col-span-3 space-y-3 py-3\">\\n            <h2 class=\"text-2xl text-green-900\">reflect north newspaper</h2>\\n            <div class=\"grid grid-cols-2 italic\">\\n                <p> 2021-05-05 </p>\\n                <p class=\"text-right\">By Jamie Fuentes </p>\\n            </div>\\n            <p>Say across want. Light once black imagine quickly local price.\\nMachine product usually. Mr kid while college young reason. White air item want social artist enter.</p>\\n        </div>\\n    </div>\\n    \\n    <div class=\"grid grid-cols-4 gap-x-4 border rounded pr-3 bg-green-50 hover:shadow-lg transition duration-500\">\\n        <img src=\"/static/placeholder.png\" />\\n        <div class=\"col-span-3 space-y-3 py-3\">\\n            <h2 class=\"text-2xl text-green-900\">cup administration perform</h2>\\n            <div class=\"grid grid-cols-2 italic\">\\n                <p> 1997-10-17 </p>\\n                <p class=\"text-right\">By Jill Hebert </p>\\n            </div>\\n            <p>Skin edge various. Really education difficult front just.\\nCost left trial structure. Art before hit laugh such town.</p>\\n        </div>\\n    </div>\\n    \\n    <div class=\"grid grid-cols-4 gap-x-4 border rounded pr-3 bg-green-50 hover:shadow-lg transition duration-500\">\\n        <img src=\"/static/placeholder.png\" />\\n        <div class=\"col-span-3 space-y-3 py-3\">\\n            <h2 class=\"text-2xl text-green-900\">network sport that</h2>\\n            <div class=\"grid grid-cols-2 italic\">\\n                <p> 2003-12-19 </p>\\n                <p class=\"text-right\">By Sandra Willis </p>\\n            </div>\\n            <p>Shake push life. Easy experience should care around available.\\nGo anything skill yard throughout. Room speak could from. Science consider whom expert study for.</p>\\n        </div>\\n    </div>\\n    \\n</div>\\n\\n</body>\\n</html>'"
      ]
     },
     "execution_count": 2,
     "metadata": {},
     "output_type": "execute_result"
    }
   ],
   "source": [
    "response = requests.get('https://web-scraping-demo.zgulde.net/news')\n",
    "html = response.text\n",
    "html"
   ]
  },
  {
   "cell_type": "markdown",
   "metadata": {},
   "source": [
    "We can make more sense of that html with the beautiful soup library."
   ]
  },
  {
   "cell_type": "code",
   "execution_count": 3,
   "metadata": {},
   "outputs": [
    {
     "name": "stdout",
     "output_type": "stream",
     "text": [
      "<!DOCTYPE html>\n",
      "<html lang=\"en\">\n",
      " <head>\n",
      "  <meta charset=\"utf-8\"/>\n",
      "  <meta content=\"IE=edge\" http-equiv=\"X-UA-Compatible\"/>\n",
      "  <meta content=\"width=device-width, initial-scale=1.0\" name=\"viewport\"/>\n",
      "  <title>\n",
      "   News Example Page\n",
      "  </title>\n",
      "  <link href=\"https://unpkg.com/tailwindcss@^2/dist/tailwind.min.css\" rel=\"stylesheet\"/>\n",
      "  <link href=\"https://cdn.jsdelivr.net/npm/bootstrap-icons@1.4.1/font/bootstrap-icons.css\" rel=\"stylesheet\"/>\n",
      " </head>\n",
      " <body class=\"mx-auto max-w-screen-lg pb-32\">\n",
      "  <h1 class=\"my-5 text-4xl text-center\">\n",
      "   News!\n",
      "  </h1>\n",
      "  <div class=\"my-5 text-red-800 px-5 py-3 bg-red-100 font-bold\">\n",
      "   <p>\n",
      "    <i class=\"bi bi-exclamation-circle text-xl\">\n",
      "    </i>\n",
      "    All data on this page is strictly for demonstration purposes and fake.\n",
      "   </p>\n",
      "  </div>\n",
      "  <div class=\"grid gap-y-12\">\n",
      "   <div class=\"grid grid-cols-4 gap-x-4 border rounded pr-3 bg-green-50 hover:shadow-lg transition duration-500\">\n",
      "    <img src=\"/static/placeholder.png\"/>\n",
      "    <div class=\"col-span-3 space-y-3 py-3\">\n",
      "     <h2 class=\"text-2xl text-green-900\">\n",
      "      thank any discuss\n",
      "     </h2>\n",
      "     <div class=\"grid grid-cols-2 italic\">\n",
      "      <p>\n",
      "       2002-08-16\n",
      "      </p>\n",
      "      <p class=\"text-right\">\n",
      "       By Kristy Turner\n",
      "      </p>\n",
      "     </div>\n",
      "     <p>\n",
      "      Law nation over great Mr cause. His opportunity building could charge.\n",
      "Look finally stock adult oil various. Writer doctor manage commercial after quickly. Very development claim green challenge they sense.\n",
      "     </p>\n",
      "    </div>\n",
      "   </div>\n",
      "   <div class=\"grid grid-cols-4 gap-x-4 border rounded pr-3 bg-green-50 hover:shadow-lg transition duration-500\">\n",
      "    <img src=\"/static/placeholder.png\"/>\n",
      "    <div class=\"col-span-3 space-y-3 py-3\">\n",
      "     <h2 class=\"text-2xl text-green-900\">\n",
      "      owner tree organization\n",
      "     </h2>\n",
      "     <div class=\"grid grid-cols-2 italic\">\n",
      "      <p>\n",
      "       2015-11-06\n",
      "      </p>\n",
      "      <p class=\"text-right\">\n",
      "       By Karen Lopez\n",
      "      </p>\n",
      "     </div>\n",
      "     <p>\n",
      "      House worker finish everybody oil finally. Glass couple coach away effect pay later. Nation traditional say north back collection.\n",
      "Style staff fund main. Such meeting husband street day we capital west.\n",
      "     </p>\n",
      "    </div>\n",
      "   </div>\n",
      "   <div class=\"grid grid-cols-4 gap-x-4 border rounded pr-3 bg-green-50 hover:shadow-lg transition duration-500\">\n",
      "    <img src=\"/static/placeholder.png\"/>\n",
      "    <div class=\"col-span-3 space-y-3 py-3\">\n",
      "     <h2 class=\"text-2xl text-green-900\">\n",
      "      either next market\n",
      "     </h2>\n",
      "     <div class=\"grid grid-cols-2 italic\">\n",
      "      <p>\n",
      "       2012-02-06\n",
      "      </p>\n",
      "      <p class=\"text-right\">\n",
      "       By Ryan Harris\n",
      "      </p>\n",
      "     </div>\n",
      "     <p>\n",
      "      Mother data day weight possible dark institution join. Wish material minute blue writer activity. Full although health ten level image.\n",
      "Hair site time several education ahead. Hotel want feel student wide so street forward.\n",
      "     </p>\n",
      "    </div>\n",
      "   </div>\n",
      "   <div class=\"grid grid-cols-4 gap-x-4 border rounded pr-3 bg-green-50 hover:shadow-lg transition duration-500\">\n",
      "    <img src=\"/static/placeholder.png\"/>\n",
      "    <div class=\"col-span-3 space-y-3 py-3\">\n",
      "     <h2 class=\"text-2xl text-green-900\">\n",
      "      picture clearly civil\n",
      "     </h2>\n",
      "     <div class=\"grid grid-cols-2 italic\">\n",
      "      <p>\n",
      "       2018-12-30\n",
      "      </p>\n",
      "      <p class=\"text-right\">\n",
      "       By Virginia Moss\n",
      "      </p>\n",
      "     </div>\n",
      "     <p>\n",
      "      Pick agree score later car industry. Line speech dream which feel. Ready toward good smile serious step different assume.\n",
      "Science check may season health discover. Name short fear explain act meet candidate end. Police show writer budget TV teacher hospital.\n",
      "     </p>\n",
      "    </div>\n",
      "   </div>\n",
      "   <div class=\"grid grid-cols-4 gap-x-4 border rounded pr-3 bg-green-50 hover:shadow-lg transition duration-500\">\n",
      "    <img src=\"/static/placeholder.png\"/>\n",
      "    <div class=\"col-span-3 space-y-3 py-3\">\n",
      "     <h2 class=\"text-2xl text-green-900\">\n",
      "      back case car\n",
      "     </h2>\n",
      "     <div class=\"grid grid-cols-2 italic\">\n",
      "      <p>\n",
      "       1987-08-25\n",
      "      </p>\n",
      "      <p class=\"text-right\">\n",
      "       By Bruce Mason\n",
      "      </p>\n",
      "     </div>\n",
      "     <p>\n",
      "      To cut serious company. Already miss personal appear though.\n",
      "Eight during process north capital seven. Through address join some way well.\n",
      "     </p>\n",
      "    </div>\n",
      "   </div>\n",
      "   <div class=\"grid grid-cols-4 gap-x-4 border rounded pr-3 bg-green-50 hover:shadow-lg transition duration-500\">\n",
      "    <img src=\"/static/placeholder.png\"/>\n",
      "    <div class=\"col-span-3 space-y-3 py-3\">\n",
      "     <h2 class=\"text-2xl text-green-900\">\n",
      "      drive card operation\n",
      "     </h2>\n",
      "     <div class=\"grid grid-cols-2 italic\">\n",
      "      <p>\n",
      "       1995-03-21\n",
      "      </p>\n",
      "      <p class=\"text-right\">\n",
      "       By Bryan Martin\n",
      "      </p>\n",
      "     </div>\n",
      "     <p>\n",
      "      Whether hold once treat. Traditional agree always company.\n",
      "Watch even career ball only spring interesting. Challenge born old health.\n",
      "     </p>\n",
      "    </div>\n",
      "   </div>\n",
      "   <div class=\"grid grid-cols-4 gap-x-4 border rounded pr-3 bg-green-50 hover:shadow-lg transition duration-500\">\n",
      "    <img src=\"/static/placeholder.png\"/>\n",
      "    <div class=\"col-span-3 space-y-3 py-3\">\n",
      "     <h2 class=\"text-2xl text-green-900\">\n",
      "      week soon matter\n",
      "     </h2>\n",
      "     <div class=\"grid grid-cols-2 italic\">\n",
      "      <p>\n",
      "       1980-01-05\n",
      "      </p>\n",
      "      <p class=\"text-right\">\n",
      "       By Christine Wolfe\n",
      "      </p>\n",
      "     </div>\n",
      "     <p>\n",
      "      City fire majority seat. Indeed sign successful stay.\n",
      "Kitchen have partner particularly community move enjoy certain. Feeling election man live.\n",
      "     </p>\n",
      "    </div>\n",
      "   </div>\n",
      "   <div class=\"grid grid-cols-4 gap-x-4 border rounded pr-3 bg-green-50 hover:shadow-lg transition duration-500\">\n",
      "    <img src=\"/static/placeholder.png\"/>\n",
      "    <div class=\"col-span-3 space-y-3 py-3\">\n",
      "     <h2 class=\"text-2xl text-green-900\">\n",
      "      book actually everything\n",
      "     </h2>\n",
      "     <div class=\"grid grid-cols-2 italic\">\n",
      "      <p>\n",
      "       1982-03-23\n",
      "      </p>\n",
      "      <p class=\"text-right\">\n",
      "       By Kayla Gonzalez\n",
      "      </p>\n",
      "     </div>\n",
      "     <p>\n",
      "      Former against theory form group fill. Run return improve. Same age agreement save. Occur six right.\n",
      "Glass bit task poor learn international.\n",
      "     </p>\n",
      "    </div>\n",
      "   </div>\n",
      "   <div class=\"grid grid-cols-4 gap-x-4 border rounded pr-3 bg-green-50 hover:shadow-lg transition duration-500\">\n",
      "    <img src=\"/static/placeholder.png\"/>\n",
      "    <div class=\"col-span-3 space-y-3 py-3\">\n",
      "     <h2 class=\"text-2xl text-green-900\">\n",
      "      break early fear\n",
      "     </h2>\n",
      "     <div class=\"grid grid-cols-2 italic\">\n",
      "      <p>\n",
      "       2018-12-24\n",
      "      </p>\n",
      "      <p class=\"text-right\">\n",
      "       By Sara Medina\n",
      "      </p>\n",
      "     </div>\n",
      "     <p>\n",
      "      Concern significant fall better lawyer help. In moment opportunity long.\n",
      "Walk off effort cover process.\n",
      "     </p>\n",
      "    </div>\n",
      "   </div>\n",
      "   <div class=\"grid grid-cols-4 gap-x-4 border rounded pr-3 bg-green-50 hover:shadow-lg transition duration-500\">\n",
      "    <img src=\"/static/placeholder.png\"/>\n",
      "    <div class=\"col-span-3 space-y-3 py-3\">\n",
      "     <h2 class=\"text-2xl text-green-900\">\n",
      "      reflect north newspaper\n",
      "     </h2>\n",
      "     <div class=\"grid grid-cols-2 italic\">\n",
      "      <p>\n",
      "       2021-05-05\n",
      "      </p>\n",
      "      <p class=\"text-right\">\n",
      "       By Jamie Fuentes\n",
      "      </p>\n",
      "     </div>\n",
      "     <p>\n",
      "      Say across want. Light once black imagine quickly local price.\n",
      "Machine product usually. Mr kid while college young reason. White air item want social artist enter.\n",
      "     </p>\n",
      "    </div>\n",
      "   </div>\n",
      "   <div class=\"grid grid-cols-4 gap-x-4 border rounded pr-3 bg-green-50 hover:shadow-lg transition duration-500\">\n",
      "    <img src=\"/static/placeholder.png\"/>\n",
      "    <div class=\"col-span-3 space-y-3 py-3\">\n",
      "     <h2 class=\"text-2xl text-green-900\">\n",
      "      cup administration perform\n",
      "     </h2>\n",
      "     <div class=\"grid grid-cols-2 italic\">\n",
      "      <p>\n",
      "       1997-10-17\n",
      "      </p>\n",
      "      <p class=\"text-right\">\n",
      "       By Jill Hebert\n",
      "      </p>\n",
      "     </div>\n",
      "     <p>\n",
      "      Skin edge various. Really education difficult front just.\n",
      "Cost left trial structure. Art before hit laugh such town.\n",
      "     </p>\n",
      "    </div>\n",
      "   </div>\n",
      "   <div class=\"grid grid-cols-4 gap-x-4 border rounded pr-3 bg-green-50 hover:shadow-lg transition duration-500\">\n",
      "    <img src=\"/static/placeholder.png\"/>\n",
      "    <div class=\"col-span-3 space-y-3 py-3\">\n",
      "     <h2 class=\"text-2xl text-green-900\">\n",
      "      network sport that\n",
      "     </h2>\n",
      "     <div class=\"grid grid-cols-2 italic\">\n",
      "      <p>\n",
      "       2003-12-19\n",
      "      </p>\n",
      "      <p class=\"text-right\">\n",
      "       By Sandra Willis\n",
      "      </p>\n",
      "     </div>\n",
      "     <p>\n",
      "      Shake push life. Easy experience should care around available.\n",
      "Go anything skill yard throughout. Room speak could from. Science consider whom expert study for.\n",
      "     </p>\n",
      "    </div>\n",
      "   </div>\n",
      "  </div>\n",
      " </body>\n",
      "</html>\n"
     ]
    }
   ],
   "source": [
    "soup = BeautifulSoup(html)\n",
    "print(soup.prettify())"
   ]
  },
  {
   "cell_type": "markdown",
   "metadata": {},
   "source": [
    "From here we can switch between the browser and python and try out different ways of getting different parts of the html document.\n",
    "\n",
    "We can leverage Google Chrome's developer tools by right clicking and choosing \"Inspect\". We can then use this html document inspector to help us with our web scraping."
   ]
  },
  {
   "cell_type": "code",
   "execution_count": 4,
   "metadata": {},
   "outputs": [],
   "source": [
    "# Use beautifulsoup methods to extract necessary content from an article"
   ]
  },
  {
   "cell_type": "code",
   "execution_count": 5,
   "metadata": {},
   "outputs": [
    {
     "data": {
      "text/plain": [
       "[<div class=\"grid grid-cols-4 gap-x-4 border rounded pr-3 bg-green-50 hover:shadow-lg transition duration-500\">\n",
       " <img src=\"/static/placeholder.png\"/>\n",
       " <div class=\"col-span-3 space-y-3 py-3\">\n",
       " <h2 class=\"text-2xl text-green-900\">thank any discuss</h2>\n",
       " <div class=\"grid grid-cols-2 italic\">\n",
       " <p> 2002-08-16 </p>\n",
       " <p class=\"text-right\">By Kristy Turner </p>\n",
       " </div>\n",
       " <p>Law nation over great Mr cause. His opportunity building could charge.\n",
       " Look finally stock adult oil various. Writer doctor manage commercial after quickly. Very development claim green challenge they sense.</p>\n",
       " </div>\n",
       " </div>,\n",
       " <div class=\"grid grid-cols-4 gap-x-4 border rounded pr-3 bg-green-50 hover:shadow-lg transition duration-500\">\n",
       " <img src=\"/static/placeholder.png\"/>\n",
       " <div class=\"col-span-3 space-y-3 py-3\">\n",
       " <h2 class=\"text-2xl text-green-900\">owner tree organization</h2>\n",
       " <div class=\"grid grid-cols-2 italic\">\n",
       " <p> 2015-11-06 </p>\n",
       " <p class=\"text-right\">By Karen Lopez </p>\n",
       " </div>\n",
       " <p>House worker finish everybody oil finally. Glass couple coach away effect pay later. Nation traditional say north back collection.\n",
       " Style staff fund main. Such meeting husband street day we capital west.</p>\n",
       " </div>\n",
       " </div>,\n",
       " <div class=\"grid grid-cols-4 gap-x-4 border rounded pr-3 bg-green-50 hover:shadow-lg transition duration-500\">\n",
       " <img src=\"/static/placeholder.png\"/>\n",
       " <div class=\"col-span-3 space-y-3 py-3\">\n",
       " <h2 class=\"text-2xl text-green-900\">either next market</h2>\n",
       " <div class=\"grid grid-cols-2 italic\">\n",
       " <p> 2012-02-06 </p>\n",
       " <p class=\"text-right\">By Ryan Harris </p>\n",
       " </div>\n",
       " <p>Mother data day weight possible dark institution join. Wish material minute blue writer activity. Full although health ten level image.\n",
       " Hair site time several education ahead. Hotel want feel student wide so street forward.</p>\n",
       " </div>\n",
       " </div>,\n",
       " <div class=\"grid grid-cols-4 gap-x-4 border rounded pr-3 bg-green-50 hover:shadow-lg transition duration-500\">\n",
       " <img src=\"/static/placeholder.png\"/>\n",
       " <div class=\"col-span-3 space-y-3 py-3\">\n",
       " <h2 class=\"text-2xl text-green-900\">picture clearly civil</h2>\n",
       " <div class=\"grid grid-cols-2 italic\">\n",
       " <p> 2018-12-30 </p>\n",
       " <p class=\"text-right\">By Virginia Moss </p>\n",
       " </div>\n",
       " <p>Pick agree score later car industry. Line speech dream which feel. Ready toward good smile serious step different assume.\n",
       " Science check may season health discover. Name short fear explain act meet candidate end. Police show writer budget TV teacher hospital.</p>\n",
       " </div>\n",
       " </div>,\n",
       " <div class=\"grid grid-cols-4 gap-x-4 border rounded pr-3 bg-green-50 hover:shadow-lg transition duration-500\">\n",
       " <img src=\"/static/placeholder.png\"/>\n",
       " <div class=\"col-span-3 space-y-3 py-3\">\n",
       " <h2 class=\"text-2xl text-green-900\">back case car</h2>\n",
       " <div class=\"grid grid-cols-2 italic\">\n",
       " <p> 1987-08-25 </p>\n",
       " <p class=\"text-right\">By Bruce Mason </p>\n",
       " </div>\n",
       " <p>To cut serious company. Already miss personal appear though.\n",
       " Eight during process north capital seven. Through address join some way well.</p>\n",
       " </div>\n",
       " </div>,\n",
       " <div class=\"grid grid-cols-4 gap-x-4 border rounded pr-3 bg-green-50 hover:shadow-lg transition duration-500\">\n",
       " <img src=\"/static/placeholder.png\"/>\n",
       " <div class=\"col-span-3 space-y-3 py-3\">\n",
       " <h2 class=\"text-2xl text-green-900\">drive card operation</h2>\n",
       " <div class=\"grid grid-cols-2 italic\">\n",
       " <p> 1995-03-21 </p>\n",
       " <p class=\"text-right\">By Bryan Martin </p>\n",
       " </div>\n",
       " <p>Whether hold once treat. Traditional agree always company.\n",
       " Watch even career ball only spring interesting. Challenge born old health.</p>\n",
       " </div>\n",
       " </div>,\n",
       " <div class=\"grid grid-cols-4 gap-x-4 border rounded pr-3 bg-green-50 hover:shadow-lg transition duration-500\">\n",
       " <img src=\"/static/placeholder.png\"/>\n",
       " <div class=\"col-span-3 space-y-3 py-3\">\n",
       " <h2 class=\"text-2xl text-green-900\">week soon matter</h2>\n",
       " <div class=\"grid grid-cols-2 italic\">\n",
       " <p> 1980-01-05 </p>\n",
       " <p class=\"text-right\">By Christine Wolfe </p>\n",
       " </div>\n",
       " <p>City fire majority seat. Indeed sign successful stay.\n",
       " Kitchen have partner particularly community move enjoy certain. Feeling election man live.</p>\n",
       " </div>\n",
       " </div>,\n",
       " <div class=\"grid grid-cols-4 gap-x-4 border rounded pr-3 bg-green-50 hover:shadow-lg transition duration-500\">\n",
       " <img src=\"/static/placeholder.png\"/>\n",
       " <div class=\"col-span-3 space-y-3 py-3\">\n",
       " <h2 class=\"text-2xl text-green-900\">book actually everything</h2>\n",
       " <div class=\"grid grid-cols-2 italic\">\n",
       " <p> 1982-03-23 </p>\n",
       " <p class=\"text-right\">By Kayla Gonzalez </p>\n",
       " </div>\n",
       " <p>Former against theory form group fill. Run return improve. Same age agreement save. Occur six right.\n",
       " Glass bit task poor learn international.</p>\n",
       " </div>\n",
       " </div>,\n",
       " <div class=\"grid grid-cols-4 gap-x-4 border rounded pr-3 bg-green-50 hover:shadow-lg transition duration-500\">\n",
       " <img src=\"/static/placeholder.png\"/>\n",
       " <div class=\"col-span-3 space-y-3 py-3\">\n",
       " <h2 class=\"text-2xl text-green-900\">break early fear</h2>\n",
       " <div class=\"grid grid-cols-2 italic\">\n",
       " <p> 2018-12-24 </p>\n",
       " <p class=\"text-right\">By Sara Medina </p>\n",
       " </div>\n",
       " <p>Concern significant fall better lawyer help. In moment opportunity long.\n",
       " Walk off effort cover process.</p>\n",
       " </div>\n",
       " </div>,\n",
       " <div class=\"grid grid-cols-4 gap-x-4 border rounded pr-3 bg-green-50 hover:shadow-lg transition duration-500\">\n",
       " <img src=\"/static/placeholder.png\"/>\n",
       " <div class=\"col-span-3 space-y-3 py-3\">\n",
       " <h2 class=\"text-2xl text-green-900\">reflect north newspaper</h2>\n",
       " <div class=\"grid grid-cols-2 italic\">\n",
       " <p> 2021-05-05 </p>\n",
       " <p class=\"text-right\">By Jamie Fuentes </p>\n",
       " </div>\n",
       " <p>Say across want. Light once black imagine quickly local price.\n",
       " Machine product usually. Mr kid while college young reason. White air item want social artist enter.</p>\n",
       " </div>\n",
       " </div>,\n",
       " <div class=\"grid grid-cols-4 gap-x-4 border rounded pr-3 bg-green-50 hover:shadow-lg transition duration-500\">\n",
       " <img src=\"/static/placeholder.png\"/>\n",
       " <div class=\"col-span-3 space-y-3 py-3\">\n",
       " <h2 class=\"text-2xl text-green-900\">cup administration perform</h2>\n",
       " <div class=\"grid grid-cols-2 italic\">\n",
       " <p> 1997-10-17 </p>\n",
       " <p class=\"text-right\">By Jill Hebert </p>\n",
       " </div>\n",
       " <p>Skin edge various. Really education difficult front just.\n",
       " Cost left trial structure. Art before hit laugh such town.</p>\n",
       " </div>\n",
       " </div>,\n",
       " <div class=\"grid grid-cols-4 gap-x-4 border rounded pr-3 bg-green-50 hover:shadow-lg transition duration-500\">\n",
       " <img src=\"/static/placeholder.png\"/>\n",
       " <div class=\"col-span-3 space-y-3 py-3\">\n",
       " <h2 class=\"text-2xl text-green-900\">network sport that</h2>\n",
       " <div class=\"grid grid-cols-2 italic\">\n",
       " <p> 2003-12-19 </p>\n",
       " <p class=\"text-right\">By Sandra Willis </p>\n",
       " </div>\n",
       " <p>Shake push life. Easy experience should care around available.\n",
       " Go anything skill yard throughout. Room speak could from. Science consider whom expert study for.</p>\n",
       " </div>\n",
       " </div>]"
      ]
     },
     "execution_count": 5,
     "metadata": {},
     "output_type": "execute_result"
    }
   ],
   "source": [
    "articles = soup.select('.grid-cols-4')\n",
    "articles"
   ]
  },
  {
   "cell_type": "code",
   "execution_count": 6,
   "metadata": {
    "scrolled": true
   },
   "outputs": [
    {
     "data": {
      "text/plain": [
       "<div class=\"grid grid-cols-4 gap-x-4 border rounded pr-3 bg-green-50 hover:shadow-lg transition duration-500\">\n",
       "<img src=\"/static/placeholder.png\"/>\n",
       "<div class=\"col-span-3 space-y-3 py-3\">\n",
       "<h2 class=\"text-2xl text-green-900\">thank any discuss</h2>\n",
       "<div class=\"grid grid-cols-2 italic\">\n",
       "<p> 2002-08-16 </p>\n",
       "<p class=\"text-right\">By Kristy Turner </p>\n",
       "</div>\n",
       "<p>Law nation over great Mr cause. His opportunity building could charge.\n",
       "Look finally stock adult oil various. Writer doctor manage commercial after quickly. Very development claim green challenge they sense.</p>\n",
       "</div>\n",
       "</div>"
      ]
     },
     "execution_count": 6,
     "metadata": {},
     "output_type": "execute_result"
    }
   ],
   "source": [
    "article = articles[0]\n",
    "article"
   ]
  },
  {
   "cell_type": "code",
   "execution_count": 7,
   "metadata": {},
   "outputs": [
    {
     "data": {
      "text/plain": [
       "'thank any discuss'"
      ]
     },
     "execution_count": 7,
     "metadata": {},
     "output_type": "execute_result"
    }
   ],
   "source": [
    "headline = article.h2.text\n",
    "headline"
   ]
  },
  {
   "cell_type": "code",
   "execution_count": 8,
   "metadata": {},
   "outputs": [
    {
     "data": {
      "text/plain": [
       "'2002-08-16'"
      ]
     },
     "execution_count": 8,
     "metadata": {},
     "output_type": "execute_result"
    }
   ],
   "source": [
    "date = article.p.text.strip()\n",
    "date"
   ]
  },
  {
   "cell_type": "code",
   "execution_count": 9,
   "metadata": {},
   "outputs": [
    {
     "data": {
      "text/plain": [
       "'Kristy Turner'"
      ]
     },
     "execution_count": 9,
     "metadata": {},
     "output_type": "execute_result"
    }
   ],
   "source": [
    "author = article.select('.text-right')[0].text.strip()[3:]\n",
    "author"
   ]
  },
  {
   "cell_type": "code",
   "execution_count": 10,
   "metadata": {},
   "outputs": [
    {
     "data": {
      "text/plain": [
       "'Law nation over great Mr cause. His opportunity building could charge.\\nLook finally stock adult oil various. Writer doctor manage commercial after quickly. Very development claim green challenge they sense.'"
      ]
     },
     "execution_count": 10,
     "metadata": {},
     "output_type": "execute_result"
    }
   ],
   "source": [
    "content = article.select('p')[-1].text\n",
    "content"
   ]
  },
  {
   "cell_type": "markdown",
   "metadata": {},
   "source": [
    "Bringing it all together: Make a function"
   ]
  },
  {
   "cell_type": "code",
   "execution_count": 11,
   "metadata": {},
   "outputs": [],
   "source": [
    "def parse_news(article):\n",
    "    headline = article.h2.text\n",
    "    date = article.p.text.strip()\n",
    "    author = article.select('.text-right')[0].text.strip()[3:]\n",
    "    content = article.select('p')[-1].text\n",
    "   \n",
    "    return {\n",
    "        'headline': headline, 'date': date, 'author': author,\n",
    "        'content': content\n",
    "    }"
   ]
  },
  {
   "cell_type": "code",
   "execution_count": 12,
   "metadata": {
    "scrolled": true
   },
   "outputs": [
    {
     "data": {
      "text/plain": [
       "{'headline': 'thank any discuss',\n",
       " 'date': '2002-08-16',\n",
       " 'author': 'Kristy Turner',\n",
       " 'content': 'Law nation over great Mr cause. His opportunity building could charge.\\nLook finally stock adult oil various. Writer doctor manage commercial after quickly. Very development claim green challenge they sense.'}"
      ]
     },
     "execution_count": 12,
     "metadata": {},
     "output_type": "execute_result"
    }
   ],
   "source": [
    "parse_news(article)"
   ]
  },
  {
   "cell_type": "code",
   "execution_count": 13,
   "metadata": {},
   "outputs": [
    {
     "data": {
      "text/html": [
       "<div>\n",
       "<style scoped>\n",
       "    .dataframe tbody tr th:only-of-type {\n",
       "        vertical-align: middle;\n",
       "    }\n",
       "\n",
       "    .dataframe tbody tr th {\n",
       "        vertical-align: top;\n",
       "    }\n",
       "\n",
       "    .dataframe thead th {\n",
       "        text-align: right;\n",
       "    }\n",
       "</style>\n",
       "<table border=\"1\" class=\"dataframe\">\n",
       "  <thead>\n",
       "    <tr style=\"text-align: right;\">\n",
       "      <th></th>\n",
       "      <th>headline</th>\n",
       "      <th>date</th>\n",
       "      <th>author</th>\n",
       "      <th>content</th>\n",
       "    </tr>\n",
       "  </thead>\n",
       "  <tbody>\n",
       "    <tr>\n",
       "      <th>0</th>\n",
       "      <td>thank any discuss</td>\n",
       "      <td>2002-08-16</td>\n",
       "      <td>Kristy Turner</td>\n",
       "      <td>Law nation over great Mr cause. His opportunit...</td>\n",
       "    </tr>\n",
       "    <tr>\n",
       "      <th>1</th>\n",
       "      <td>owner tree organization</td>\n",
       "      <td>2015-11-06</td>\n",
       "      <td>Karen Lopez</td>\n",
       "      <td>House worker finish everybody oil finally. Gla...</td>\n",
       "    </tr>\n",
       "    <tr>\n",
       "      <th>2</th>\n",
       "      <td>either next market</td>\n",
       "      <td>2012-02-06</td>\n",
       "      <td>Ryan Harris</td>\n",
       "      <td>Mother data day weight possible dark instituti...</td>\n",
       "    </tr>\n",
       "    <tr>\n",
       "      <th>3</th>\n",
       "      <td>picture clearly civil</td>\n",
       "      <td>2018-12-30</td>\n",
       "      <td>Virginia Moss</td>\n",
       "      <td>Pick agree score later car industry. Line spee...</td>\n",
       "    </tr>\n",
       "    <tr>\n",
       "      <th>4</th>\n",
       "      <td>back case car</td>\n",
       "      <td>1987-08-25</td>\n",
       "      <td>Bruce Mason</td>\n",
       "      <td>To cut serious company. Already miss personal ...</td>\n",
       "    </tr>\n",
       "    <tr>\n",
       "      <th>5</th>\n",
       "      <td>drive card operation</td>\n",
       "      <td>1995-03-21</td>\n",
       "      <td>Bryan Martin</td>\n",
       "      <td>Whether hold once treat. Traditional agree alw...</td>\n",
       "    </tr>\n",
       "    <tr>\n",
       "      <th>6</th>\n",
       "      <td>week soon matter</td>\n",
       "      <td>1980-01-05</td>\n",
       "      <td>Christine Wolfe</td>\n",
       "      <td>City fire majority seat. Indeed sign successfu...</td>\n",
       "    </tr>\n",
       "    <tr>\n",
       "      <th>7</th>\n",
       "      <td>book actually everything</td>\n",
       "      <td>1982-03-23</td>\n",
       "      <td>Kayla Gonzalez</td>\n",
       "      <td>Former against theory form group fill. Run ret...</td>\n",
       "    </tr>\n",
       "    <tr>\n",
       "      <th>8</th>\n",
       "      <td>break early fear</td>\n",
       "      <td>2018-12-24</td>\n",
       "      <td>Sara Medina</td>\n",
       "      <td>Concern significant fall better lawyer help. I...</td>\n",
       "    </tr>\n",
       "    <tr>\n",
       "      <th>9</th>\n",
       "      <td>reflect north newspaper</td>\n",
       "      <td>2021-05-05</td>\n",
       "      <td>Jamie Fuentes</td>\n",
       "      <td>Say across want. Light once black imagine quic...</td>\n",
       "    </tr>\n",
       "    <tr>\n",
       "      <th>10</th>\n",
       "      <td>cup administration perform</td>\n",
       "      <td>1997-10-17</td>\n",
       "      <td>Jill Hebert</td>\n",
       "      <td>Skin edge various. Really education difficult ...</td>\n",
       "    </tr>\n",
       "    <tr>\n",
       "      <th>11</th>\n",
       "      <td>network sport that</td>\n",
       "      <td>2003-12-19</td>\n",
       "      <td>Sandra Willis</td>\n",
       "      <td>Shake push life. Easy experience should care a...</td>\n",
       "    </tr>\n",
       "  </tbody>\n",
       "</table>\n",
       "</div>"
      ],
      "text/plain": [
       "                      headline        date           author  \\\n",
       "0            thank any discuss  2002-08-16    Kristy Turner   \n",
       "1      owner tree organization  2015-11-06      Karen Lopez   \n",
       "2           either next market  2012-02-06      Ryan Harris   \n",
       "3        picture clearly civil  2018-12-30    Virginia Moss   \n",
       "4                back case car  1987-08-25      Bruce Mason   \n",
       "5         drive card operation  1995-03-21     Bryan Martin   \n",
       "6             week soon matter  1980-01-05  Christine Wolfe   \n",
       "7     book actually everything  1982-03-23   Kayla Gonzalez   \n",
       "8             break early fear  2018-12-24      Sara Medina   \n",
       "9      reflect north newspaper  2021-05-05    Jamie Fuentes   \n",
       "10  cup administration perform  1997-10-17      Jill Hebert   \n",
       "11          network sport that  2003-12-19    Sandra Willis   \n",
       "\n",
       "                                              content  \n",
       "0   Law nation over great Mr cause. His opportunit...  \n",
       "1   House worker finish everybody oil finally. Gla...  \n",
       "2   Mother data day weight possible dark instituti...  \n",
       "3   Pick agree score later car industry. Line spee...  \n",
       "4   To cut serious company. Already miss personal ...  \n",
       "5   Whether hold once treat. Traditional agree alw...  \n",
       "6   City fire majority seat. Indeed sign successfu...  \n",
       "7   Former against theory form group fill. Run ret...  \n",
       "8   Concern significant fall better lawyer help. I...  \n",
       "9   Say across want. Light once black imagine quic...  \n",
       "10  Skin edge various. Really education difficult ...  \n",
       "11  Shake push life. Easy experience should care a...  "
      ]
     },
     "execution_count": 13,
     "metadata": {},
     "output_type": "execute_result"
    }
   ],
   "source": [
    "# loop through all the articles\n",
    "pd.DataFrame([parse_news(article) for article in articles])"
   ]
  },
  {
   "cell_type": "markdown",
   "metadata": {},
   "source": [
    "## Scraping People"
   ]
  },
  {
   "cell_type": "code",
   "execution_count": 30,
   "metadata": {},
   "outputs": [],
   "source": [
    "response = requests.get('https://web-scraping-demo.zgulde.net/people', headers={'user-agent': 'Codeup DS Hoppper'})\n",
    "soup = BeautifulSoup(response.text)"
   ]
  },
  {
   "cell_type": "code",
   "execution_count": null,
   "metadata": {},
   "outputs": [],
   "source": [
    "#https://web-scraping-demo.zgulde.net/people"
   ]
  },
  {
   "cell_type": "code",
   "execution_count": 34,
   "metadata": {},
   "outputs": [],
   "source": [
    "people = soup.select('.person')"
   ]
  },
  {
   "cell_type": "code",
   "execution_count": 35,
   "metadata": {},
   "outputs": [
    {
     "data": {
      "text/plain": [
       "<div class=\"person border rounded px-3 py-5 grid grid-cols-2 gap-x-3 bg-purple-50 hover:shadow-lg transition duration-500\">\n",
       "<h2 class=\"text-2xl text-purple-800 name col-span-full border-b\">Cassandra Simon</h2>\n",
       "<p class=\"quote col-span-full px-5 py-5 text-center text-gray-500\">\n",
       "            \"Customizable national infrastructure\"\n",
       "        </p>\n",
       "<div class=\"grid grid-cols-9\">\n",
       "<i class=\"bi bi-envelope-fill text-purple-800\"></i>\n",
       "<p class=\"email col-span-8\">fjackson@obrien-garcia.com</p>\n",
       "<i class=\"bi bi-telephone-fill text-purple-800\"></i>\n",
       "<p class=\"phone col-span-8\">+1-725-734-4868</p>\n",
       "</div>\n",
       "<div class=\"address grid grid-cols-9\">\n",
       "<i class=\"bi bi-geo-fill text-purple-800\"></i>\n",
       "<p class=\"col-span-8\">\n",
       "                1908 Nixon Locks Suite 078 <br/>\n",
       "                Coreychester, KY 29045\n",
       "            </p>\n",
       "</div>\n",
       "</div>"
      ]
     },
     "execution_count": 35,
     "metadata": {},
     "output_type": "execute_result"
    }
   ],
   "source": [
    "person = people[0]\n",
    "person\n"
   ]
  },
  {
   "cell_type": "code",
   "execution_count": 45,
   "metadata": {},
   "outputs": [
    {
     "data": {
      "text/plain": [
       "'Cassandra Simon'"
      ]
     },
     "execution_count": 45,
     "metadata": {},
     "output_type": "execute_result"
    }
   ],
   "source": [
    "name = person.select('h2')[-1].text\n",
    "name\n",
    "# soup.find('h2'): finds the first matching element\n",
    "# Cassandra Simon"
   ]
  },
  {
   "cell_type": "code",
   "execution_count": 49,
   "metadata": {},
   "outputs": [
    {
     "data": {
      "text/plain": [
       "'\"Customizable national infrastructure\"'"
      ]
     },
     "execution_count": 49,
     "metadata": {},
     "output_type": "execute_result"
    }
   ],
   "source": [
    "quote = person.select('p')[0].text.strip()\n",
    "quote\n",
    "#content = article.select('p')[-1].text\n"
   ]
  },
  {
   "cell_type": "code",
   "execution_count": 58,
   "metadata": {},
   "outputs": [
    {
     "data": {
      "text/plain": [
       "'fjackson@obrien-garcia.com'"
      ]
     },
     "execution_count": 58,
     "metadata": {},
     "output_type": "execute_result"
    }
   ],
   "source": [
    "email = person.select('p')[1].text.strip()\n",
    "email"
   ]
  },
  {
   "cell_type": "code",
   "execution_count": 60,
   "metadata": {},
   "outputs": [
    {
     "data": {
      "text/plain": [
       "'+1-725-734-4868'"
      ]
     },
     "execution_count": 60,
     "metadata": {},
     "output_type": "execute_result"
    }
   ],
   "source": [
    "phone = person.select('p')[2].text.strip()\n",
    "phone"
   ]
  },
  {
   "cell_type": "code",
   "execution_count": 72,
   "metadata": {},
   "outputs": [
    {
     "data": {
      "text/plain": [
       "'1908 Nixon Locks Suite 078 Coreychester, KY 29045'"
      ]
     },
     "execution_count": 72,
     "metadata": {},
     "output_type": "execute_result"
    }
   ],
   "source": [
    "address = person.select('p')[-1].text.replace('\\n', '').replace('        ','').strip()\n",
    "address"
   ]
  },
  {
   "cell_type": "code",
   "execution_count": 76,
   "metadata": {},
   "outputs": [
    {
     "data": {
      "text/plain": [
       "'1908 Nixon Locks Suite 078                 Coreychester, KY 29045'"
      ]
     },
     "execution_count": 76,
     "metadata": {},
     "output_type": "execute_result"
    }
   ],
   "source": [
    "address = person.select('p')[-1].text.replace('\\n', '').strip()\n",
    "address"
   ]
  },
  {
   "cell_type": "code",
   "execution_count": 62,
   "metadata": {},
   "outputs": [
    {
     "ename": "SyntaxError",
     "evalue": "invalid character in identifier (<ipython-input-62-ab82c2b482ba>, line 1)",
     "output_type": "error",
     "traceback": [
      "\u001b[0;36m  File \u001b[0;32m\"<ipython-input-62-ab82c2b482ba>\"\u001b[0;36m, line \u001b[0;32m1\u001b[0m\n\u001b[0;31m    address = person.select(‘.address’)[0].text.replace(‘\\n’, ‘’).replace('        ‘,’’).strip()\u001b[0m\n\u001b[0m                            ^\u001b[0m\n\u001b[0;31mSyntaxError\u001b[0m\u001b[0;31m:\u001b[0m invalid character in identifier\n"
     ]
    }
   ],
   "source": [
    "import re\n"
   ]
  },
  {
   "cell_type": "code",
   "execution_count": 73,
   "metadata": {},
   "outputs": [],
   "source": [
    "def parse_person(person):\n",
    "    name = person.select('h2')[-1].text\n",
    "    quote = person.select('p')[0].text.strip()\n",
    "    email = person.select('p')[1].text.strip()\n",
    "    phone = person.select('p')[2].text.strip()\n",
    "    address = person.select('p')[-1].text.replace('\\n', '').replace('        ','').strip()\n",
    "\n",
    "    \n",
    "    return {\n",
    "        'name': name, 'quote': quote, 'email': email,\n",
    "        'phone': phone,\n",
    "        'address': address\n",
    "    }"
   ]
  },
  {
   "cell_type": "code",
   "execution_count": 75,
   "metadata": {},
   "outputs": [
    {
     "data": {
      "text/html": [
       "<div>\n",
       "<style scoped>\n",
       "    .dataframe tbody tr th:only-of-type {\n",
       "        vertical-align: middle;\n",
       "    }\n",
       "\n",
       "    .dataframe tbody tr th {\n",
       "        vertical-align: top;\n",
       "    }\n",
       "\n",
       "    .dataframe thead th {\n",
       "        text-align: right;\n",
       "    }\n",
       "</style>\n",
       "<table border=\"1\" class=\"dataframe\">\n",
       "  <thead>\n",
       "    <tr style=\"text-align: right;\">\n",
       "      <th></th>\n",
       "      <th>name</th>\n",
       "      <th>quote</th>\n",
       "      <th>email</th>\n",
       "      <th>phone</th>\n",
       "      <th>address</th>\n",
       "    </tr>\n",
       "  </thead>\n",
       "  <tbody>\n",
       "    <tr>\n",
       "      <th>0</th>\n",
       "      <td>Cassandra Simon</td>\n",
       "      <td>\"Customizable national infrastructure\"</td>\n",
       "      <td>fjackson@obrien-garcia.com</td>\n",
       "      <td>+1-725-734-4868</td>\n",
       "      <td>1908 Nixon Locks Suite 078 Coreychester, KY 29045</td>\n",
       "    </tr>\n",
       "    <tr>\n",
       "      <th>1</th>\n",
       "      <td>Dustin Mclaughlin</td>\n",
       "      <td>\"Open-architected systematic Local Area Network\"</td>\n",
       "      <td>thomas02@hotmail.com</td>\n",
       "      <td>(306)312-0939</td>\n",
       "      <td>596 Griffin Greens Christopherview, PA 38210</td>\n",
       "    </tr>\n",
       "    <tr>\n",
       "      <th>2</th>\n",
       "      <td>Michelle Harris</td>\n",
       "      <td>\"Phased secondary budgetary management\"</td>\n",
       "      <td>beckjohn@miller.com</td>\n",
       "      <td>(344)258-6687x547</td>\n",
       "      <td>29200 Patrick Road Suite 110 Port Jennifer, SD...</td>\n",
       "    </tr>\n",
       "    <tr>\n",
       "      <th>3</th>\n",
       "      <td>Christian Perez</td>\n",
       "      <td>\"Profound attitude-oriented emulation\"</td>\n",
       "      <td>patricia26@davis.biz</td>\n",
       "      <td>+1-116-463-5393</td>\n",
       "      <td>295 Fitzgerald Dam Suite 338 Wagnerchester, MI...</td>\n",
       "    </tr>\n",
       "    <tr>\n",
       "      <th>4</th>\n",
       "      <td>Jennifer Austin</td>\n",
       "      <td>\"Object-based needs-based database\"</td>\n",
       "      <td>stevenmurray@gmail.com</td>\n",
       "      <td>(435)087-9456</td>\n",
       "      <td>6755 Ochoa Fields Apt. 879 Jordanburgh, NE 74954</td>\n",
       "    </tr>\n",
       "    <tr>\n",
       "      <th>5</th>\n",
       "      <td>Kyle Ward</td>\n",
       "      <td>\"Grass-roots client-driven neural-net\"</td>\n",
       "      <td>wanda97@guerrero-boyd.com</td>\n",
       "      <td>001-842-049-5807</td>\n",
       "      <td>371 Sutton Spurs South Debra, ME 40862</td>\n",
       "    </tr>\n",
       "    <tr>\n",
       "      <th>6</th>\n",
       "      <td>Emily Lee</td>\n",
       "      <td>\"Extended tangible customer loyalty\"</td>\n",
       "      <td>brandy46@yahoo.com</td>\n",
       "      <td>(419)183-1708x292</td>\n",
       "      <td>53404 Smith Key Sarahstad, NY 47876</td>\n",
       "    </tr>\n",
       "    <tr>\n",
       "      <th>7</th>\n",
       "      <td>Jennifer Hernandez</td>\n",
       "      <td>\"Focused radical software\"</td>\n",
       "      <td>byu@johnson.org</td>\n",
       "      <td>258-317-1295</td>\n",
       "      <td>2547 Ryan Prairie Suite 540 East Matthew, TX 9...</td>\n",
       "    </tr>\n",
       "    <tr>\n",
       "      <th>8</th>\n",
       "      <td>Sara Armstrong</td>\n",
       "      <td>\"Ameliorated 6thgeneration functionalities\"</td>\n",
       "      <td>annjones@fleming.com</td>\n",
       "      <td>810-375-3703x3872</td>\n",
       "      <td>124 Scott Summit West Michael, SC 39350</td>\n",
       "    </tr>\n",
       "    <tr>\n",
       "      <th>9</th>\n",
       "      <td>Robert Baxter</td>\n",
       "      <td>\"Robust coherent help-desk\"</td>\n",
       "      <td>hmills@atkins.info</td>\n",
       "      <td>363.555.3470x55274</td>\n",
       "      <td>970 Ruiz Viaduct Apt. 890 Barnettbury, MI 70359</td>\n",
       "    </tr>\n",
       "  </tbody>\n",
       "</table>\n",
       "</div>"
      ],
      "text/plain": [
       "                 name                                             quote  \\\n",
       "0     Cassandra Simon            \"Customizable national infrastructure\"   \n",
       "1   Dustin Mclaughlin  \"Open-architected systematic Local Area Network\"   \n",
       "2     Michelle Harris           \"Phased secondary budgetary management\"   \n",
       "3     Christian Perez            \"Profound attitude-oriented emulation\"   \n",
       "4     Jennifer Austin               \"Object-based needs-based database\"   \n",
       "5           Kyle Ward            \"Grass-roots client-driven neural-net\"   \n",
       "6           Emily Lee              \"Extended tangible customer loyalty\"   \n",
       "7  Jennifer Hernandez                        \"Focused radical software\"   \n",
       "8      Sara Armstrong       \"Ameliorated 6thgeneration functionalities\"   \n",
       "9       Robert Baxter                       \"Robust coherent help-desk\"   \n",
       "\n",
       "                        email               phone  \\\n",
       "0  fjackson@obrien-garcia.com     +1-725-734-4868   \n",
       "1        thomas02@hotmail.com       (306)312-0939   \n",
       "2         beckjohn@miller.com   (344)258-6687x547   \n",
       "3        patricia26@davis.biz     +1-116-463-5393   \n",
       "4      stevenmurray@gmail.com       (435)087-9456   \n",
       "5   wanda97@guerrero-boyd.com    001-842-049-5807   \n",
       "6          brandy46@yahoo.com   (419)183-1708x292   \n",
       "7             byu@johnson.org        258-317-1295   \n",
       "8        annjones@fleming.com   810-375-3703x3872   \n",
       "9          hmills@atkins.info  363.555.3470x55274   \n",
       "\n",
       "                                             address  \n",
       "0  1908 Nixon Locks Suite 078 Coreychester, KY 29045  \n",
       "1       596 Griffin Greens Christopherview, PA 38210  \n",
       "2  29200 Patrick Road Suite 110 Port Jennifer, SD...  \n",
       "3  295 Fitzgerald Dam Suite 338 Wagnerchester, MI...  \n",
       "4   6755 Ochoa Fields Apt. 879 Jordanburgh, NE 74954  \n",
       "5             371 Sutton Spurs South Debra, ME 40862  \n",
       "6                53404 Smith Key Sarahstad, NY 47876  \n",
       "7  2547 Ryan Prairie Suite 540 East Matthew, TX 9...  \n",
       "8            124 Scott Summit West Michael, SC 39350  \n",
       "9    970 Ruiz Viaduct Apt. 890 Barnettbury, MI 70359  "
      ]
     },
     "execution_count": 75,
     "metadata": {},
     "output_type": "execute_result"
    }
   ],
   "source": [
    "# loop through all the persons\n",
    "pd.DataFrame([parse_person(peeps) for peeps in people])"
   ]
  },
  {
   "cell_type": "markdown",
   "metadata": {},
   "source": [
    "## Web Scraping Etiquitte\n",
    "\n",
    "- respect the `robots.txt` file if present\n",
    "\n",
    "    * [Wikipedia: Robots exclusion standard](https://en.wikipedia.org/wiki/Robots_exclusion_standard)\n",
    "    * [robotstxt.org](http://www.robotstxt.org/robotstxt.html)\n",
    "    * [codeup's robots.txt](https://codeup.com/robots.txt)\n",
    "\n",
    "- use a descriptive user agent\n",
    "\n",
    "    ```python\n",
    "    requests.get('http://example.com', headers={'user-agent': 'codeup data science germain cohort'})\n",
    "    ```"
   ]
  },
  {
   "cell_type": "markdown",
   "metadata": {},
   "source": [
    "## Exercises\n",
    "\n",
    "#### Codeup Blog Articles\n",
    "\n",
    "Visit Codeup's Blog(http://codeup.com/blog/) and record the urls for at least 5 distinct blog posts. For each post, you should scrape at least the post's title and content.\n",
    "\n",
    "Encapsulate your work in a function named get_blog_articles that will return a list of dictionaries, with each dictionary representing one article. The shape of each dictionary should look like this:"
   ]
  },
  {
   "cell_type": "code",
   "execution_count": 77,
   "metadata": {},
   "outputs": [],
   "source": [
    "response = requests.get('https://codeup.com/blog/', headers={'user-agent': 'Codeup DS Hopper'})\n",
    "soup = BeautifulSoup(response.text)"
   ]
  },
  {
   "cell_type": "code",
   "execution_count": null,
   "metadata": {},
   "outputs": [],
   "source": []
  }
 ],
 "metadata": {
  "interpreter": {
   "hash": "38cca0c38332a56087b24af0bc80247f4fced29cb4f7f437d91dc159adec9c4e"
  },
  "kernelspec": {
   "display_name": "Python 3",
   "language": "python",
   "name": "python3"
  },
  "language_info": {
   "codemirror_mode": {
    "name": "ipython",
    "version": 3
   },
   "file_extension": ".py",
   "mimetype": "text/x-python",
   "name": "python",
   "nbconvert_exporter": "python",
   "pygments_lexer": "ipython3",
   "version": "3.8.8"
  }
 },
 "nbformat": 4,
 "nbformat_minor": 4
}
