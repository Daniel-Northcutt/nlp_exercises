{
 "cells": [
  {
   "cell_type": "code",
   "execution_count": 6,
   "id": "9e02cc97",
   "metadata": {},
   "outputs": [],
   "source": [
    "import re"
   ]
  },
  {
   "cell_type": "markdown",
   "id": "a6888715",
   "metadata": {},
   "source": [
    "### 1. Write a function named is_vowel. It should accept a string as input and use a regular expression to determine if the passed string is a vowel. While not explicity mentioned in the lesson, you can treat the result of re.search as a boolean value that indicates whether or not the regular expression matches the given string."
   ]
  },
  {
   "cell_type": "code",
   "execution_count": null,
   "id": "953a0d07",
   "metadata": {},
   "outputs": [],
   "source": [
    "# For example, r\"[aeiou]\" matches any lowercase vowel character. Identical to r\"a|e|i|o|u\"\n",
    "# r\"[a-z]\" matches lowercase a through z."
   ]
  },
  {
   "cell_type": "code",
   "execution_count": null,
   "id": "cedb9848",
   "metadata": {},
   "outputs": [],
   "source": [
    "r\"[aeiou]"
   ]
  },
  {
   "cell_type": "code",
   "execution_count": 8,
   "id": "928da5ed",
   "metadata": {},
   "outputs": [
    {
     "data": {
      "text/plain": [
       "<re.Match object; span=(1, 2), match='a'>"
      ]
     },
     "execution_count": 8,
     "metadata": {},
     "output_type": "execute_result"
    }
   ],
   "source": [
    "re.search(r\"a|e|i|o|u\", \"banana\", re.IGNORECASE)"
   ]
  },
  {
   "cell_type": "code",
   "execution_count": 13,
   "id": "945282a9",
   "metadata": {},
   "outputs": [
    {
     "data": {
      "text/plain": [
       "<re.Match object; span=(1, 2), match='a'>"
      ]
     },
     "execution_count": 13,
     "metadata": {},
     "output_type": "execute_result"
    }
   ],
   "source": [
    "re.search(r\"a|e|i|o|u\", \"banana\", re.IGNORECASE)"
   ]
  },
  {
   "cell_type": "code",
   "execution_count": 77,
   "id": "cec03ef2",
   "metadata": {},
   "outputs": [],
   "source": [
    "# def is_vowel(letter):\n",
    "#     if re.search(r\"a|e|i|o|u\", letter, re.IGNORECASE):\n",
    "#         print (True)\n",
    "#     else:\n",
    "#         print (False)"
   ]
  },
  {
   "cell_type": "code",
   "execution_count": 205,
   "id": "795e4d6b",
   "metadata": {},
   "outputs": [],
   "source": [
    "def is_vowel(letter):\n",
    "    return bool (re.search (r\"[aeiou]\", letter, re.IGNORECASE))"
   ]
  },
  {
   "cell_type": "code",
   "execution_count": 207,
   "id": "e056b932",
   "metadata": {},
   "outputs": [
    {
     "data": {
      "text/plain": [
       "True"
      ]
     },
     "execution_count": 207,
     "metadata": {},
     "output_type": "execute_result"
    }
   ],
   "source": [
    "is_vowel('A')"
   ]
  },
  {
   "cell_type": "code",
   "execution_count": 208,
   "id": "a691e335",
   "metadata": {},
   "outputs": [
    {
     "data": {
      "text/plain": [
       "False"
      ]
     },
     "execution_count": 208,
     "metadata": {},
     "output_type": "execute_result"
    }
   ],
   "source": [
    "is_vowel('b')"
   ]
  },
  {
   "cell_type": "markdown",
   "id": "77774870",
   "metadata": {},
   "source": [
    "### 2. Write a function named is_valid_username that accepts a string as input. A valid username starts with a lowercase letter, and only consists of lowercase letters, numbers, or the _ character. It should also be no longer than 32 characters. The function should return either True or False depending on whether the passed string is a valid username."
   ]
  },
  {
   "cell_type": "code",
   "execution_count": null,
   "id": "5cdf4f75",
   "metadata": {},
   "outputs": [],
   "source": [
    "# >>> is_valid_username('aaaaaaaaaaaaaaaaaaaaaaaaaaaaaaaaa')\n",
    "# False\n",
    "# >>> is_valid_username('codeup')\n",
    "# True\n",
    "# >>> is_valid_username('Codeup')\n",
    "# False\n",
    "# >>> is_valid_username('codeup123')\n",
    "# True\n",
    "# >>> is_valid_username('1codeup')\n",
    "# False\n"
   ]
  },
  {
   "cell_type": "code",
   "execution_count": null,
   "id": "28c837e6",
   "metadata": {},
   "outputs": [],
   "source": [
    "#begins with lowercase letter, only consists of lowercase letters, numbers, or _   & < 32 === True"
   ]
  },
  {
   "cell_type": "code",
   "execution_count": null,
   "id": "8a0d98da",
   "metadata": {},
   "outputs": [],
   "source": [
    "#'^[a-zA-Z0-9_]*$'"
   ]
  },
  {
   "cell_type": "code",
   "execution_count": 209,
   "id": "f832413a",
   "metadata": {},
   "outputs": [
    {
     "data": {
      "text/plain": [
       "<re.Match object; span=(0, 30), match='word_9384__5888668123213231213'>"
      ]
     },
     "execution_count": 209,
     "metadata": {},
     "output_type": "execute_result"
    }
   ],
   "source": [
    "## has letters,numbers,underscore and up to 32 letters\n",
    "re.search(r'^[a-z][a-z0-9_]{,31}$', \"word_9384__5888668123213231213\")"
   ]
  },
  {
   "cell_type": "code",
   "execution_count": 210,
   "id": "97c29b99",
   "metadata": {},
   "outputs": [],
   "source": [
    "re.search('^[a-z][a-z0-9_]{,31}$', \"Word_9384__5888668123213231213\")"
   ]
  },
  {
   "cell_type": "code",
   "execution_count": 56,
   "id": "dd300c10",
   "metadata": {},
   "outputs": [
    {
     "data": {
      "text/plain": [
       "<re.Match object; span=(0, 0), match=''>"
      ]
     },
     "execution_count": 56,
     "metadata": {},
     "output_type": "execute_result"
    }
   ],
   "source": [
    "re.search('[a-z0-9_]{,32}', \"Codeup123_hopper23________________________45\")"
   ]
  },
  {
   "cell_type": "code",
   "execution_count": 42,
   "id": "6d5df66c",
   "metadata": {},
   "outputs": [],
   "source": [
    "def is_valid_username(string):\n",
    "    if re.search('^[a-z0-9_]{,32}', string):\n",
    "        print (True)\n",
    "    else:\n",
    "        print (False)"
   ]
  },
  {
   "cell_type": "code",
   "execution_count": 211,
   "id": "49cec4c6",
   "metadata": {},
   "outputs": [],
   "source": [
    "def is_valid_username(string):\n",
    "    return bool(re.search(r'^[a-z][a-z0-9_]{,31}$', string))"
   ]
  },
  {
   "cell_type": "code",
   "execution_count": 212,
   "id": "96af54ce",
   "metadata": {},
   "outputs": [
    {
     "data": {
      "text/plain": [
       "True"
      ]
     },
     "execution_count": 212,
     "metadata": {},
     "output_type": "execute_result"
    }
   ],
   "source": [
    "is_valid_username('codeup')"
   ]
  },
  {
   "cell_type": "code",
   "execution_count": 213,
   "id": "7cf6ea19",
   "metadata": {},
   "outputs": [
    {
     "data": {
      "text/plain": [
       "True"
      ]
     },
     "execution_count": 213,
     "metadata": {},
     "output_type": "execute_result"
    }
   ],
   "source": [
    "is_valid_username(\"codeup123_hopper2345\")"
   ]
  },
  {
   "cell_type": "code",
   "execution_count": 214,
   "id": "2416bb63",
   "metadata": {},
   "outputs": [
    {
     "data": {
      "text/plain": [
       "False"
      ]
     },
     "execution_count": 214,
     "metadata": {},
     "output_type": "execute_result"
    }
   ],
   "source": [
    "is_valid_username(\"Codeup123_hopper23________________________45\")"
   ]
  },
  {
   "cell_type": "code",
   "execution_count": 215,
   "id": "829deba5",
   "metadata": {},
   "outputs": [
    {
     "data": {
      "text/plain": [
       "False"
      ]
     },
     "execution_count": 215,
     "metadata": {},
     "output_type": "execute_result"
    }
   ],
   "source": [
    "is_valid_username(\"Codeup123_hopper2345\")"
   ]
  },
  {
   "cell_type": "markdown",
   "id": "7668a058",
   "metadata": {},
   "source": [
    "### 3. Write a regular expression to capture phone numbers. It should match all of the following:\n",
    "\n",
    "\n"
   ]
  },
  {
   "cell_type": "code",
   "execution_count": 1,
   "id": "caf8c955",
   "metadata": {},
   "outputs": [],
   "source": [
    "# (210) 867 5309\n",
    "# +1 210.867.5309\n",
    "# 867-5309\n",
    "# 210-867-5309"
   ]
  },
  {
   "cell_type": "code",
   "execution_count": null,
   "id": "97317b5d",
   "metadata": {},
   "outputs": [],
   "source": [
    "### ([0-9]{,4}),"
   ]
  },
  {
   "cell_type": "code",
   "execution_count": null,
   "id": "77955f0f",
   "metadata": {},
   "outputs": [],
   "source": [
    "re.search(r')"
   ]
  },
  {
   "cell_type": "code",
   "execution_count": 216,
   "id": "fc90886d",
   "metadata": {},
   "outputs": [
    {
     "ename": "SyntaxError",
     "evalue": "EOL while scanning string literal (<ipython-input-216-4baa4f501cad>, line 2)",
     "output_type": "error",
     "traceback": [
      "\u001b[0;36m  File \u001b[0;32m\"<ipython-input-216-4baa4f501cad>\"\u001b[0;36m, line \u001b[0;32m2\u001b[0m\n\u001b[0;31m    r\"(/d{3})?\u001b[0m\n\u001b[0m              ^\u001b[0m\n\u001b[0;31mSyntaxError\u001b[0m\u001b[0;31m:\u001b[0m EOL while scanning string literal\n"
     ]
    }
   ],
   "source": [
    "#helps for the area code being optional\n",
    "#r\"(/d{3})?"
   ]
  },
  {
   "cell_type": "code",
   "execution_count": 165,
   "id": "7be7b71a",
   "metadata": {},
   "outputs": [],
   "source": [
    "# /W matches any non alphanumeric"
   ]
  },
  {
   "cell_type": "code",
   "execution_count": 217,
   "id": "a9391a28",
   "metadata": {},
   "outputs": [
    {
     "data": {
      "text/plain": [
       "<re.Match object; span=(0, 12), match='210-867-5309'>"
      ]
     },
     "execution_count": 217,
     "metadata": {},
     "output_type": "execute_result"
    }
   ],
   "source": [
    "re.search(r'[0-9\\+\\-\\ \\.]{9,15}$', '210-867-5309')"
   ]
  },
  {
   "cell_type": "code",
   "execution_count": 218,
   "id": "d6765d7e",
   "metadata": {},
   "outputs": [
    {
     "data": {
      "text/plain": [
       "<re.Match object; span=(0, 12), match='210-867-5309'>"
      ]
     },
     "execution_count": 218,
     "metadata": {},
     "output_type": "execute_result"
    }
   ],
   "source": [
    "re.search(r'[0-9\\+\\(\\)\\-\\ \\.]{9,15}$', '210-867-5309')"
   ]
  },
  {
   "cell_type": "code",
   "execution_count": 219,
   "id": "81948ea5",
   "metadata": {},
   "outputs": [
    {
     "data": {
      "text/plain": [
       "<re.Match object; span=(0, 15), match='+1 210.867.5309'>"
      ]
     },
     "execution_count": 219,
     "metadata": {},
     "output_type": "execute_result"
    }
   ],
   "source": [
    "re.search(r'[0-9\\+\\(\\)\\-\\ \\.]{9,15}$', '+1 210.867.5309')"
   ]
  },
  {
   "cell_type": "code",
   "execution_count": 220,
   "id": "7b47de40",
   "metadata": {},
   "outputs": [
    {
     "data": {
      "text/plain": [
       "<re.Match object; span=(0, 14), match='(210) 867 5309'>"
      ]
     },
     "execution_count": 220,
     "metadata": {},
     "output_type": "execute_result"
    }
   ],
   "source": [
    "re.search(r'[0-9\\+\\(\\)\\-\\ \\.]{7,15}$', '(210) 867 5309')"
   ]
  },
  {
   "cell_type": "code",
   "execution_count": 221,
   "id": "28d10541",
   "metadata": {},
   "outputs": [],
   "source": [
    "#.? any character"
   ]
  },
  {
   "cell_type": "code",
   "execution_count": 222,
   "id": "5b6e4008",
   "metadata": {},
   "outputs": [
    {
     "data": {
      "text/plain": [
       "<re.Match object; span=(0, 14), match='(210) 867 5309'>"
      ]
     },
     "execution_count": 222,
     "metadata": {},
     "output_type": "execute_result"
    }
   ],
   "source": [
    "re.search(r'(.*)?(\\d{,4})?.?(\\d{,4})?.?(\\d{,4})?', '(210) 867 5309')"
   ]
  },
  {
   "cell_type": "code",
   "execution_count": 223,
   "id": "6fd67a16",
   "metadata": {},
   "outputs": [],
   "source": [
    "# better method\n",
    "\n",
    "# (any variable) - (numeric up to 4 -optional) - (optional) - (numeric up to 4 -optional) - optional -(numeric up to 4 -optional)\n",
    "def phone_numbers(number):\n",
    "    return bool( re.search(r'(.*)?(\\d{,4})?.?(\\d{,4})?.?(\\d{,4})?', number))"
   ]
  },
  {
   "cell_type": "code",
   "execution_count": 174,
   "id": "37a8416b",
   "metadata": {},
   "outputs": [],
   "source": [
    "\n",
    "def phone_numbers2(number):\n",
    "    return bool(re.search(r'[0-9\\+\\(\\)\\-\\ \\.]{9,15}$', number))\n"
   ]
  },
  {
   "cell_type": "code",
   "execution_count": null,
   "id": "88f83a23",
   "metadata": {},
   "outputs": [],
   "source": []
  },
  {
   "cell_type": "markdown",
   "id": "6bcbf7f8",
   "metadata": {},
   "source": [
    "### 4. Use regular expressions to convert the dates below to the standardized year-month-day format."
   ]
  },
  {
   "cell_type": "code",
   "execution_count": 2,
   "id": "4e2becf0",
   "metadata": {},
   "outputs": [],
   "source": [
    "# 02/04/19\n",
    "# 02/05/19\n",
    "# 02/06/19\n",
    "# 02/07/19\n",
    "# 02/08/19\n",
    "# 02/09/19\n",
    "# 02/10/19"
   ]
  },
  {
   "cell_type": "code",
   "execution_count": 224,
   "id": "821322cf",
   "metadata": {},
   "outputs": [],
   "source": [
    "sentence = '''\n",
    "You can find us on the web at https://codeup.com. Our ip address is 123.123.123.123 (maybe).\n",
    "'''.strip()"
   ]
  },
  {
   "cell_type": "code",
   "execution_count": 225,
   "id": "0cc824e6",
   "metadata": {},
   "outputs": [
    {
     "data": {
      "text/plain": [
       "'123.123.123.123'"
      ]
     },
     "execution_count": 225,
     "metadata": {},
     "output_type": "execute_result"
    }
   ],
   "source": [
    "ip_re = r'\\d+(\\.\\d+){3}'\n",
    "\n",
    "match = re.search(ip_re, sentence)\n",
    "match[0]"
   ]
  },
  {
   "cell_type": "code",
   "execution_count": 227,
   "id": "e46abfc1",
   "metadata": {
    "scrolled": true
   },
   "outputs": [],
   "source": [
    "# testing\n",
    "#re.search(r'(?P<month>\\d{2}).?(?<day>\\d{2}).?(?<year>\\d{2})', '02/10/19') # this matches 02 month"
   ]
  },
  {
   "cell_type": "code",
   "execution_count": 229,
   "id": "509d097d",
   "metadata": {
    "scrolled": true
   },
   "outputs": [],
   "source": [
    "# regex = r'(?P<month>\\d{2}).?(?<day>\\d{2}).?(?<year>\\d{2})'\n",
    "# date = '02/04/19'\n",
    "# month, day, year = re.search(regex, date).groups()"
   ]
  },
  {
   "cell_type": "code",
   "execution_count": 230,
   "id": "77d00cd3",
   "metadata": {},
   "outputs": [],
   "source": [
    "def convert_dates(s):\n",
    "    print(re.sub(r'(?P<month>\\d{2}).?(?P<day>\\d{2}).?(?P<year>\\d{2})', r'\\3/\\2/\\1', s))"
   ]
  },
  {
   "cell_type": "code",
   "execution_count": 198,
   "id": "4317709a",
   "metadata": {},
   "outputs": [],
   "source": [
    "# def convert_dates(s):\n",
    "#     print(re.search(r'(?P<month>\\d{2}).?(?P<day>\\d{2}).?(?P<year>\\d{2})', r'\\3/\\2/\\1', s))"
   ]
  },
  {
   "cell_type": "code",
   "execution_count": 231,
   "id": "309fbf90",
   "metadata": {},
   "outputs": [],
   "source": [
    "match = re.search(r'(?P<month>\\d{2}).?(?P<day>\\d{2}).?(?P<year>\\d{2})', '02/04/19')"
   ]
  },
  {
   "cell_type": "code",
   "execution_count": 232,
   "id": "233e28d9",
   "metadata": {},
   "outputs": [
    {
     "data": {
      "text/plain": [
       "{'month': '02', 'day': '04', 'year': '19'}"
      ]
     },
     "execution_count": 232,
     "metadata": {},
     "output_type": "execute_result"
    }
   ],
   "source": [
    "match.groupdict()"
   ]
  },
  {
   "cell_type": "code",
   "execution_count": 233,
   "id": "3b7e0925",
   "metadata": {},
   "outputs": [
    {
     "data": {
      "text/plain": [
       "'04'"
      ]
     },
     "execution_count": 233,
     "metadata": {},
     "output_type": "execute_result"
    }
   ],
   "source": [
    "match.group('day')"
   ]
  },
  {
   "cell_type": "code",
   "execution_count": 234,
   "id": "c57183b7",
   "metadata": {},
   "outputs": [
    {
     "name": "stdout",
     "output_type": "stream",
     "text": [
      "19/04/02\n",
      "19/05/02\n",
      "19/06/02\n",
      "19/07/02\n",
      "19/08/02\n",
      "19/09/02\n",
      "19/10/02\n"
     ]
    }
   ],
   "source": [
    "for d in [ '02/04/19','02/05/19','02/06/19','02/07/19','02/08/19','02/09/19','02/10/19']:\n",
    "    convert_dates(d)"
   ]
  },
  {
   "cell_type": "code",
   "execution_count": 235,
   "id": "66552188",
   "metadata": {},
   "outputs": [],
   "source": [
    "re.search(r'\\d+(\\.\\d+){3}', '345')"
   ]
  },
  {
   "cell_type": "markdown",
   "id": "fb028ef4",
   "metadata": {},
   "source": [
    "### 5. Write a regex to extract the various parts of these logfile lines:\n",
    "\n"
   ]
  },
  {
   "cell_type": "code",
   "execution_count": 5,
   "id": "5b86cacb",
   "metadata": {},
   "outputs": [],
   "source": [
    "# GET /api/v1/sales?page=86 [16/Apr/2019:193452+0000] HTTP/1.1 {200} 510348 \"python-requests/2.21.0\" 97.105.19.58\n",
    "# POST /users_accounts/file-upload [16/Apr/2019:193452+0000] HTTP/1.1 {201} 42 \"User-Agent: Mozilla/5.0 (X11; Fedora; Fedora; Linux x86_64) AppleWebKit/537.36 (KHTML, like Gecko) Chrome/73.0.3683.86 Safari/537.36\" 97.105.19.58\n",
    "# GET /api/v1/items?page=3 [16/Apr/2019:193453+0000] HTTP/1.1 {429} 3561 \"python-requests/2.21.0\" 97.105.19.58\n"
   ]
  },
  {
   "cell_type": "code",
   "execution_count": null,
   "id": "56f7f63a",
   "metadata": {},
   "outputs": [],
   "source": []
  },
  {
   "cell_type": "code",
   "execution_count": null,
   "id": "ee4d2761",
   "metadata": {},
   "outputs": [],
   "source": []
  }
 ],
 "metadata": {
  "kernelspec": {
   "display_name": "Python 3",
   "language": "python",
   "name": "python3"
  },
  "language_info": {
   "codemirror_mode": {
    "name": "ipython",
    "version": 3
   },
   "file_extension": ".py",
   "mimetype": "text/x-python",
   "name": "python",
   "nbconvert_exporter": "python",
   "pygments_lexer": "ipython3",
   "version": "3.8.8"
  }
 },
 "nbformat": 4,
 "nbformat_minor": 5
}
