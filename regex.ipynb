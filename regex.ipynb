{
 "cells": [
  {
   "cell_type": "code",
   "execution_count": 48,
   "id": "9e02cc97",
   "metadata": {},
   "outputs": [],
   "source": [
    "import re\n",
    "import pandas as pd"
   ]
  },
  {
   "cell_type": "markdown",
   "id": "a6888715",
   "metadata": {},
   "source": [
    "### 1. Write a function named is_vowel. It should accept a string as input and use a regular expression to determine if the passed string is a vowel. While not explicity mentioned in the lesson, you can treat the result of re.search as a boolean value that indicates whether or not the regular expression matches the given string."
   ]
  },
  {
   "cell_type": "code",
   "execution_count": 2,
   "id": "953a0d07",
   "metadata": {},
   "outputs": [],
   "source": [
    "# For example, r\"[aeiou]\" matches any lowercase vowel character. Identical to r\"a|e|i|o|u\"\n",
    "# r\"[a-z]\" matches lowercase a through z."
   ]
  },
  {
   "cell_type": "code",
   "execution_count": 3,
   "id": "cedb9848",
   "metadata": {},
   "outputs": [],
   "source": [
    "#r\"[aeiou]"
   ]
  },
  {
   "cell_type": "code",
   "execution_count": 4,
   "id": "928da5ed",
   "metadata": {},
   "outputs": [
    {
     "data": {
      "text/plain": [
       "<re.Match object; span=(1, 2), match='a'>"
      ]
     },
     "execution_count": 4,
     "metadata": {},
     "output_type": "execute_result"
    }
   ],
   "source": [
    "re.search(r\"a|e|i|o|u\", \"banana\", re.IGNORECASE)"
   ]
  },
  {
   "cell_type": "code",
   "execution_count": 5,
   "id": "945282a9",
   "metadata": {},
   "outputs": [
    {
     "data": {
      "text/plain": [
       "<re.Match object; span=(1, 2), match='a'>"
      ]
     },
     "execution_count": 5,
     "metadata": {},
     "output_type": "execute_result"
    }
   ],
   "source": [
    "re.search(r\"a|e|i|o|u\", \"banana\", re.IGNORECASE)"
   ]
  },
  {
   "cell_type": "code",
   "execution_count": 6,
   "id": "cec03ef2",
   "metadata": {},
   "outputs": [],
   "source": [
    "# def is_vowel(letter):\n",
    "#     if re.search(r\"a|e|i|o|u\", letter, re.IGNORECASE):\n",
    "#         print (True)\n",
    "#     else:\n",
    "#         print (False)"
   ]
  },
  {
   "cell_type": "code",
   "execution_count": 7,
   "id": "ee782ca7",
   "metadata": {},
   "outputs": [],
   "source": [
    "def is_vowel(letter):\n",
    "    return bool (re.search (r\"[aeiou]\", letter, re.IGNORECASE))"
   ]
  },
  {
   "cell_type": "code",
   "execution_count": 8,
   "id": "e056b932",
   "metadata": {},
   "outputs": [
    {
     "data": {
      "text/plain": [
       "True"
      ]
     },
     "execution_count": 8,
     "metadata": {},
     "output_type": "execute_result"
    }
   ],
   "source": [
    "is_vowel('A')"
   ]
  },
  {
   "cell_type": "code",
   "execution_count": 9,
   "id": "a691e335",
   "metadata": {},
   "outputs": [
    {
     "data": {
      "text/plain": [
       "False"
      ]
     },
     "execution_count": 9,
     "metadata": {},
     "output_type": "execute_result"
    }
   ],
   "source": [
    "is_vowel('b')"
   ]
  },
  {
   "cell_type": "markdown",
   "id": "77774870",
   "metadata": {},
   "source": [
    "### 2. Write a function named is_valid_username that accepts a string as input. A valid username starts with a lowercase letter, and only consists of lowercase letters, numbers, or the _ character. It should also be no longer than 32 characters. The function should return either True or False depending on whether the passed string is a valid username."
   ]
  },
  {
   "cell_type": "code",
   "execution_count": 10,
   "id": "5cdf4f75",
   "metadata": {},
   "outputs": [],
   "source": [
    "# >>> is_valid_username('aaaaaaaaaaaaaaaaaaaaaaaaaaaaaaaaa')\n",
    "# False\n",
    "# >>> is_valid_username('codeup')\n",
    "# True\n",
    "# >>> is_valid_username('Codeup')\n",
    "# False\n",
    "# >>> is_valid_username('codeup123')\n",
    "# True\n",
    "# >>> is_valid_username('1codeup')\n",
    "# False\n"
   ]
  },
  {
   "cell_type": "code",
   "execution_count": 11,
   "id": "28c837e6",
   "metadata": {},
   "outputs": [],
   "source": [
    "#begins with lowercase letter, only consists of lowercase letters, numbers, or _   & < 32 === True"
   ]
  },
  {
   "cell_type": "code",
   "execution_count": 12,
   "id": "8a0d98da",
   "metadata": {},
   "outputs": [],
   "source": [
    "#'^[a-zA-Z0-9_]*$'"
   ]
  },
  {
   "cell_type": "code",
   "execution_count": 13,
   "id": "f832413a",
   "metadata": {},
   "outputs": [
    {
     "data": {
      "text/plain": [
       "<re.Match object; span=(0, 30), match='word_9384__5888668123213231213'>"
      ]
     },
     "execution_count": 13,
     "metadata": {},
     "output_type": "execute_result"
    }
   ],
   "source": [
    "## has letters,numbers,underscore and up to 32 letters\n",
    "## the dollar sign says to terminate the string if it is beyond this point\n",
    "re.search(r'^[a-z][a-z0-9_]{1,31}$', \"word_9384__5888668123213231213\")"
   ]
  },
  {
   "cell_type": "code",
   "execution_count": 14,
   "id": "97c29b99",
   "metadata": {},
   "outputs": [],
   "source": [
    "re.search('^[a-z][a-z0-9_]{,31}$', \"Word_9384__5888668123213231213\")"
   ]
  },
  {
   "cell_type": "code",
   "execution_count": 15,
   "id": "dd300c10",
   "metadata": {},
   "outputs": [
    {
     "data": {
      "text/plain": [
       "<re.Match object; span=(0, 0), match=''>"
      ]
     },
     "execution_count": 15,
     "metadata": {},
     "output_type": "execute_result"
    }
   ],
   "source": [
    "re.search('[a-z0-9_]{,32}', \"Codeup123_hopper23________________________45\")"
   ]
  },
  {
   "cell_type": "code",
   "execution_count": 16,
   "id": "6d5df66c",
   "metadata": {},
   "outputs": [],
   "source": [
    "def is_valid_username(string):\n",
    "    if re.search('^[a-z0-9_]{,32}', string):\n",
    "        print (True)\n",
    "    else:\n",
    "        print (False)"
   ]
  },
  {
   "cell_type": "code",
   "execution_count": 17,
   "id": "49cec4c6",
   "metadata": {},
   "outputs": [],
   "source": [
    "def is_valid_username(string):\n",
    "    return bool(re.search(r'^[a-z][a-z0-9_]{,31}$', string))"
   ]
  },
  {
   "cell_type": "code",
   "execution_count": 18,
   "id": "96af54ce",
   "metadata": {},
   "outputs": [
    {
     "data": {
      "text/plain": [
       "True"
      ]
     },
     "execution_count": 18,
     "metadata": {},
     "output_type": "execute_result"
    }
   ],
   "source": [
    "is_valid_username('codeup')"
   ]
  },
  {
   "cell_type": "code",
   "execution_count": 19,
   "id": "7cf6ea19",
   "metadata": {},
   "outputs": [
    {
     "data": {
      "text/plain": [
       "True"
      ]
     },
     "execution_count": 19,
     "metadata": {},
     "output_type": "execute_result"
    }
   ],
   "source": [
    "is_valid_username(\"codeup123_hopper2345\")"
   ]
  },
  {
   "cell_type": "code",
   "execution_count": 20,
   "id": "2416bb63",
   "metadata": {},
   "outputs": [
    {
     "data": {
      "text/plain": [
       "False"
      ]
     },
     "execution_count": 20,
     "metadata": {},
     "output_type": "execute_result"
    }
   ],
   "source": [
    "is_valid_username(\"Codeup123_hopper23________________________45\")"
   ]
  },
  {
   "cell_type": "code",
   "execution_count": 21,
   "id": "829deba5",
   "metadata": {},
   "outputs": [
    {
     "data": {
      "text/plain": [
       "False"
      ]
     },
     "execution_count": 21,
     "metadata": {},
     "output_type": "execute_result"
    }
   ],
   "source": [
    "is_valid_username(\"Codeup123_hopper2345\")"
   ]
  },
  {
   "cell_type": "markdown",
   "id": "7668a058",
   "metadata": {},
   "source": [
    "### 3. Write a regular expression to capture phone numbers. It should match all of the following:\n",
    "\n",
    "\n"
   ]
  },
  {
   "cell_type": "code",
   "execution_count": 22,
   "id": "caf8c955",
   "metadata": {},
   "outputs": [],
   "source": [
    "# (210) 867 5309\n",
    "# +1 210.867.5309\n",
    "# 867-5309\n",
    "# 210-867-5309"
   ]
  },
  {
   "cell_type": "code",
   "execution_count": 23,
   "id": "97317b5d",
   "metadata": {},
   "outputs": [],
   "source": [
    "### ([0-9]{,4}),"
   ]
  },
  {
   "cell_type": "code",
   "execution_count": 24,
   "id": "77955f0f",
   "metadata": {},
   "outputs": [
    {
     "ename": "SyntaxError",
     "evalue": "EOL while scanning string literal (<ipython-input-24-348d388199f4>, line 1)",
     "output_type": "error",
     "traceback": [
      "\u001b[0;36m  File \u001b[0;32m\"<ipython-input-24-348d388199f4>\"\u001b[0;36m, line \u001b[0;32m1\u001b[0m\n\u001b[0;31m    re.search(r')\u001b[0m\n\u001b[0m                 ^\u001b[0m\n\u001b[0;31mSyntaxError\u001b[0m\u001b[0;31m:\u001b[0m EOL while scanning string literal\n"
     ]
    }
   ],
   "source": [
    "re.search(r')"
   ]
  },
  {
   "cell_type": "code",
   "execution_count": null,
   "id": "fc90886d",
   "metadata": {},
   "outputs": [],
   "source": [
    "#helps for the area code being optional\n",
    "#r\"(/d{3})?"
   ]
  },
  {
   "cell_type": "code",
   "execution_count": null,
   "id": "7be7b71a",
   "metadata": {},
   "outputs": [],
   "source": [
    "# /W matches any non alphanumeric"
   ]
  },
  {
   "cell_type": "code",
   "execution_count": 25,
   "id": "a9391a28",
   "metadata": {},
   "outputs": [
    {
     "data": {
      "text/plain": [
       "<re.Match object; span=(0, 12), match='210-867-5309'>"
      ]
     },
     "execution_count": 25,
     "metadata": {},
     "output_type": "execute_result"
    }
   ],
   "source": [
    "re.search(r'[0-9\\+\\-\\ \\.]{9,15}$', '210-867-5309')"
   ]
  },
  {
   "cell_type": "code",
   "execution_count": 26,
   "id": "d6765d7e",
   "metadata": {},
   "outputs": [
    {
     "data": {
      "text/plain": [
       "<re.Match object; span=(0, 12), match='210-867-5309'>"
      ]
     },
     "execution_count": 26,
     "metadata": {},
     "output_type": "execute_result"
    }
   ],
   "source": [
    "re.search(r'[0-9\\+\\(\\)\\-\\ \\.]{9,15}$', '210-867-5309')"
   ]
  },
  {
   "cell_type": "code",
   "execution_count": 27,
   "id": "81948ea5",
   "metadata": {},
   "outputs": [
    {
     "data": {
      "text/plain": [
       "<re.Match object; span=(0, 15), match='+1 210.867.5309'>"
      ]
     },
     "execution_count": 27,
     "metadata": {},
     "output_type": "execute_result"
    }
   ],
   "source": [
    "re.search(r'[0-9\\+\\(\\)\\-\\ \\.]{9,15}$', '+1 210.867.5309')"
   ]
  },
  {
   "cell_type": "code",
   "execution_count": 28,
   "id": "7b47de40",
   "metadata": {},
   "outputs": [
    {
     "data": {
      "text/plain": [
       "<re.Match object; span=(0, 14), match='(210) 867 5309'>"
      ]
     },
     "execution_count": 28,
     "metadata": {},
     "output_type": "execute_result"
    }
   ],
   "source": [
    "re.search(r'[0-9\\+\\(\\)\\-\\ \\.]{7,15}$', '(210) 867 5309')"
   ]
  },
  {
   "cell_type": "code",
   "execution_count": null,
   "id": "49fb4a3a",
   "metadata": {},
   "outputs": [],
   "source": [
    "#.? any character"
   ]
  },
  {
   "cell_type": "code",
   "execution_count": 29,
   "id": "0812ebc2",
   "metadata": {},
   "outputs": [
    {
     "data": {
      "text/plain": [
       "<re.Match object; span=(0, 14), match='(210) 867 5309'>"
      ]
     },
     "execution_count": 29,
     "metadata": {},
     "output_type": "execute_result"
    }
   ],
   "source": [
    "re.search(r'(.*)?(\\d{,4})?.?(\\d{,4})?.?(\\d{,4})?', '(210) 867 5309')"
   ]
  },
  {
   "cell_type": "code",
   "execution_count": 30,
   "id": "9772c796",
   "metadata": {},
   "outputs": [],
   "source": [
    "# better method\n",
    "\n",
    "# (any variable) - (numeric up to 4 -optional) - (optional) - (numeric up to 4 -optional) - optional -(numeric up to 4 -optional)\n",
    "def phone_numbers(number):\n",
    "    return bool( re.search(r'(.*)?(\\d{,4})?.?(\\d{,4})?.?(\\d{,4})?', number))"
   ]
  },
  {
   "cell_type": "code",
   "execution_count": 31,
   "id": "d6b50aa9",
   "metadata": {},
   "outputs": [],
   "source": [
    "\n",
    "def phone_numbers2(number):\n",
    "    return bool(re.search(r'[0-9\\+\\(\\)\\-\\ \\.]{9,15}$', number))\n"
   ]
  },
  {
   "cell_type": "code",
   "execution_count": null,
   "id": "5a1c6cad",
   "metadata": {},
   "outputs": [],
   "source": []
  },
  {
   "cell_type": "markdown",
   "id": "6bcbf7f8",
   "metadata": {},
   "source": [
    "### 4. Use regular expressions to convert the dates below to the standardized year-month-day format."
   ]
  },
  {
   "cell_type": "code",
   "execution_count": null,
   "id": "4e2becf0",
   "metadata": {},
   "outputs": [],
   "source": [
    "# 02/04/19\n",
    "# 02/05/19\n",
    "# 02/06/19\n",
    "# 02/07/19\n",
    "# 02/08/19\n",
    "# 02/09/19\n",
    "# 02/10/19"
   ]
  },
  {
   "cell_type": "code",
   "execution_count": 32,
   "id": "f121b6b8",
   "metadata": {},
   "outputs": [],
   "source": [
    "sentence = '''\n",
    "You can find us on the web at https://codeup.com. Our ip address is 123.123.123.123 (maybe).\n",
    "'''.strip()"
   ]
  },
  {
   "cell_type": "code",
   "execution_count": 33,
   "id": "6e3e3532",
   "metadata": {},
   "outputs": [
    {
     "data": {
      "text/plain": [
       "'123.123.123.123'"
      ]
     },
     "execution_count": 33,
     "metadata": {},
     "output_type": "execute_result"
    }
   ],
   "source": [
    "ip_re = r'\\d+(\\.\\d+){3}'\n",
    "\n",
    "match = re.search(ip_re, sentence)\n",
    "match[0]"
   ]
  },
  {
   "cell_type": "code",
   "execution_count": null,
   "id": "edaef6a5",
   "metadata": {
    "scrolled": true
   },
   "outputs": [],
   "source": [
    "# testing\n",
    "#re.search(r'(?P<month>\\d{2}).?(?<day>\\d{2}).?(?<year>\\d{2})', '02/10/19') # this matches 02 month"
   ]
  },
  {
   "cell_type": "code",
   "execution_count": null,
   "id": "5cb102a5",
   "metadata": {
    "scrolled": true
   },
   "outputs": [],
   "source": [
    "# regex = r'(?P<month>\\d{2}).?(?<day>\\d{2}).?(?<year>\\d{2})'\n",
    "# date = '02/04/19'\n",
    "# month, day, year = re.search(regex, date).groups()"
   ]
  },
  {
   "cell_type": "code",
   "execution_count": 34,
   "id": "9224ac9b",
   "metadata": {},
   "outputs": [],
   "source": [
    "def convert_dates(s):\n",
    "    print(re.sub(r'(?P<month>\\d{2})/(?P<day>\\d{2})/(?P<year>\\d{2})', r'\\3/\\2/\\1', s))"
   ]
  },
  {
   "cell_type": "code",
   "execution_count": null,
   "id": "5e032c7b",
   "metadata": {},
   "outputs": [],
   "source": [
    "# def convert_dates(s):\n",
    "#     print(re.search(r'(?P<month>\\d{2}).?(?P<day>\\d{2}).?(?P<year>\\d{2})', r'\\3/\\2/\\1', s))"
   ]
  },
  {
   "cell_type": "code",
   "execution_count": 35,
   "id": "063fe0ba",
   "metadata": {},
   "outputs": [],
   "source": [
    "match = re.search(r'(?P<month>\\d{2}).?(?P<day>\\d{2}).?(?P<year>\\d{2})', '02/04/19')"
   ]
  },
  {
   "cell_type": "code",
   "execution_count": 36,
   "id": "cd65d0a3",
   "metadata": {},
   "outputs": [
    {
     "data": {
      "text/plain": [
       "{'month': '02', 'day': '04', 'year': '19'}"
      ]
     },
     "execution_count": 36,
     "metadata": {},
     "output_type": "execute_result"
    }
   ],
   "source": [
    "match.groupdict()"
   ]
  },
  {
   "cell_type": "code",
   "execution_count": 37,
   "id": "ad9f6a38",
   "metadata": {},
   "outputs": [
    {
     "data": {
      "text/plain": [
       "'04'"
      ]
     },
     "execution_count": 37,
     "metadata": {},
     "output_type": "execute_result"
    }
   ],
   "source": [
    "match.group('day')"
   ]
  },
  {
   "cell_type": "code",
   "execution_count": 38,
   "id": "36ff6a36",
   "metadata": {},
   "outputs": [
    {
     "name": "stdout",
     "output_type": "stream",
     "text": [
      "19/04/02\n",
      "19/05/02\n",
      "19/06/02\n",
      "19/07/02\n",
      "19/08/02\n",
      "19/09/02\n",
      "19/10/02\n"
     ]
    }
   ],
   "source": [
    "for d in [ '02/04/19','02/05/19','02/06/19','02/07/19','02/08/19','02/09/19','02/10/19']:\n",
    "    convert_dates(d)"
   ]
  },
  {
   "cell_type": "code",
   "execution_count": 39,
   "id": "66552188",
   "metadata": {},
   "outputs": [],
   "source": [
    "re.search(r'\\d+(\\.\\d+){3}', '345')"
   ]
  },
  {
   "cell_type": "markdown",
   "id": "fb028ef4",
   "metadata": {},
   "source": [
    "### 5. Write a regex to extract the various parts of these logfile lines:\n",
    "\n"
   ]
  },
  {
   "cell_type": "code",
   "execution_count": null,
   "id": "5b86cacb",
   "metadata": {},
   "outputs": [],
   "source": [
    "# GET /api/v1/sales?page=86 [16/Apr/2019:193452+0000] HTTP/1.1 {200} 510348 \"python-requests/2.21.0\" 97.105.19.58\n",
    "# POST /users_accounts/file-upload [16/Apr/2019:193452+0000] HTTP/1.1 {201} 42 \"User-Agent: Mozilla/5.0 (X11; Fedora; Fedora; Linux x86_64) AppleWebKit/537.36 (KHTML, like Gecko) Chrome/73.0.3683.86 Safari/537.36\" 97.105.19.58\n",
    "# GET /api/v1/items?page=3 [16/Apr/2019:193453+0000] HTTP/1.1 {429} 3561 \"python-requests/2.21.0\" 97.105.19.58\n"
   ]
  },
  {
   "cell_type": "markdown",
   "id": "0631dd35",
   "metadata": {},
   "source": [
    "### Pulled from class review did not get this question"
   ]
  },
  {
   "cell_type": "code",
   "execution_count": 41,
   "id": "03e66460",
   "metadata": {},
   "outputs": [
    {
     "data": {
      "text/plain": [
       "['GET /api/v1/sales?page=86 [16/Apr/2019:193452+0000] HTTP/1.1 {200} 510348 \"python-requests/2.21.0\" 97.105.19.58',\n",
       " 'POST /users_accounts/file-upload [16/Apr/2019:193452+0000] HTTP/1.1 {201} 42 \"User-Agent: Mozilla/5.0 (X11; Fedora; Fedora; Linux x86_64) AppleWebKit/537.36 (KHTML, like Gecko) Chrome/73.0.3683.86 Safari/537.36\" 97.105.19.58',\n",
       " 'GET /api/v1/items?page=3 [16/Apr/2019:193453+0000] HTTP/1.1 {429} 3561 \"python-requests/2.21.0\" 97.105.19.58']"
      ]
     },
     "execution_count": 41,
     "metadata": {},
     "output_type": "execute_result"
    }
   ],
   "source": [
    "lines = [\n",
    "    \"\"\"GET /api/v1/sales?page=86 [16/Apr/2019:193452+0000] HTTP/1.1 {200} 510348 \"python-requests/2.21.0\" 97.105.19.58\"\"\",\n",
    "    \"\"\"POST /users_accounts/file-upload [16/Apr/2019:193452+0000] HTTP/1.1 {201} 42 \"User-Agent: Mozilla/5.0 (X11; Fedora; Fedora; Linux x86_64) AppleWebKit/537.36 (KHTML, like Gecko) Chrome/73.0.3683.86 Safari/537.36\" 97.105.19.58\"\"\",\n",
    "    \"\"\"GET /api/v1/items?page=3 [16/Apr/2019:193453+0000] HTTP/1.1 {429} 3561 \"python-requests/2.21.0\" 97.105.19.58\"\"\"\n",
    "]\n",
    "lines"
   ]
  },
  {
   "cell_type": "code",
   "execution_count": 43,
   "id": "d68e3d34",
   "metadata": {},
   "outputs": [
    {
     "data": {
      "text/plain": [
       "<re.Match object; span=(65, 75), match='} 510348 \"'>"
      ]
     },
     "execution_count": 43,
     "metadata": {},
     "output_type": "execute_result"
    }
   ],
   "source": [
    "x = re.compile(\"\"\"\n",
    "\\}\\s(?P<bytes>\\d+)\\s\\\"\n",
    "\"\"\", re.VERBOSE)\n",
    "match = re.search(x, lines[0])\n",
    "match"
   ]
  },
  {
   "cell_type": "code",
   "execution_count": 44,
   "id": "d621d93c",
   "metadata": {},
   "outputs": [
    {
     "data": {
      "text/plain": [
       "'510348'"
      ]
     },
     "execution_count": 44,
     "metadata": {},
     "output_type": "execute_result"
    }
   ],
   "source": [
    "match.group(\"bytes\")\n"
   ]
  },
  {
   "cell_type": "code",
   "execution_count": 45,
   "id": "c2ccf858",
   "metadata": {},
   "outputs": [],
   "source": [
    "log_pattern = re.compile(r\"\"\"\n",
    "(?P<method>GET|POST) \n",
    "\\s\n",
    "(?P<path>/[/\\w\\-\\?=]+)\n",
    "\\s\n",
    "\\[(?P<timestamp>.+)\\]\n",
    "\\s\n",
    "(?P<http_version>HTTP/\\d+\\.\\d+)\n",
    "\\s\n",
    "\\{(?P<status_code>\\d+)\\}\n",
    "\\s\n",
    "(?P<bytes>\\d+)\n",
    "\\s\n",
    "\"(?P<user_agent>.+)\"\n",
    "\\s\n",
    "(?P<ip>\\d{1,3}\\.\\d{1,3}\\.\\d{1,3}\\.\\d{1,3})\n",
    "$\n",
    "\"\"\", re.VERBOSE)"
   ]
  },
  {
   "cell_type": "code",
   "execution_count": 46,
   "id": "6fcd645d",
   "metadata": {},
   "outputs": [
    {
     "data": {
      "text/plain": [
       "[{'method': 'GET',\n",
       "  'path': '/api/v1/sales?page=86',\n",
       "  'timestamp': '16/Apr/2019:193452+0000',\n",
       "  'http_version': 'HTTP/1.1',\n",
       "  'status_code': '200',\n",
       "  'bytes': '510348',\n",
       "  'user_agent': 'python-requests/2.21.0',\n",
       "  'ip': '97.105.19.58'},\n",
       " {'method': 'POST',\n",
       "  'path': '/users_accounts/file-upload',\n",
       "  'timestamp': '16/Apr/2019:193452+0000',\n",
       "  'http_version': 'HTTP/1.1',\n",
       "  'status_code': '201',\n",
       "  'bytes': '42',\n",
       "  'user_agent': 'User-Agent: Mozilla/5.0 (X11; Fedora; Fedora; Linux x86_64) AppleWebKit/537.36 (KHTML, like Gecko) Chrome/73.0.3683.86 Safari/537.36',\n",
       "  'ip': '97.105.19.58'},\n",
       " {'method': 'GET',\n",
       "  'path': '/api/v1/items?page=3',\n",
       "  'timestamp': '16/Apr/2019:193453+0000',\n",
       "  'http_version': 'HTTP/1.1',\n",
       "  'status_code': '429',\n",
       "  'bytes': '3561',\n",
       "  'user_agent': 'python-requests/2.21.0',\n",
       "  'ip': '97.105.19.58'}]"
      ]
     },
     "execution_count": 46,
     "metadata": {},
     "output_type": "execute_result"
    }
   ],
   "source": [
    "rows = [re.search(log_pattern, line).groupdict() for line in lines]\n",
    "rows"
   ]
  },
  {
   "cell_type": "code",
   "execution_count": 49,
   "id": "d5190b35",
   "metadata": {},
   "outputs": [
    {
     "data": {
      "text/html": [
       "<div>\n",
       "<style scoped>\n",
       "    .dataframe tbody tr th:only-of-type {\n",
       "        vertical-align: middle;\n",
       "    }\n",
       "\n",
       "    .dataframe tbody tr th {\n",
       "        vertical-align: top;\n",
       "    }\n",
       "\n",
       "    .dataframe thead th {\n",
       "        text-align: right;\n",
       "    }\n",
       "</style>\n",
       "<table border=\"1\" class=\"dataframe\">\n",
       "  <thead>\n",
       "    <tr style=\"text-align: right;\">\n",
       "      <th></th>\n",
       "      <th>method</th>\n",
       "      <th>path</th>\n",
       "      <th>timestamp</th>\n",
       "      <th>http_version</th>\n",
       "      <th>status_code</th>\n",
       "      <th>bytes</th>\n",
       "      <th>user_agent</th>\n",
       "      <th>ip</th>\n",
       "    </tr>\n",
       "  </thead>\n",
       "  <tbody>\n",
       "    <tr>\n",
       "      <th>0</th>\n",
       "      <td>GET</td>\n",
       "      <td>/api/v1/sales?page=86</td>\n",
       "      <td>16/Apr/2019:193452+0000</td>\n",
       "      <td>HTTP/1.1</td>\n",
       "      <td>200</td>\n",
       "      <td>510348</td>\n",
       "      <td>python-requests/2.21.0</td>\n",
       "      <td>97.105.19.58</td>\n",
       "    </tr>\n",
       "    <tr>\n",
       "      <th>1</th>\n",
       "      <td>POST</td>\n",
       "      <td>/users_accounts/file-upload</td>\n",
       "      <td>16/Apr/2019:193452+0000</td>\n",
       "      <td>HTTP/1.1</td>\n",
       "      <td>201</td>\n",
       "      <td>42</td>\n",
       "      <td>User-Agent: Mozilla/5.0 (X11; Fedora; Fedora; ...</td>\n",
       "      <td>97.105.19.58</td>\n",
       "    </tr>\n",
       "    <tr>\n",
       "      <th>2</th>\n",
       "      <td>GET</td>\n",
       "      <td>/api/v1/items?page=3</td>\n",
       "      <td>16/Apr/2019:193453+0000</td>\n",
       "      <td>HTTP/1.1</td>\n",
       "      <td>429</td>\n",
       "      <td>3561</td>\n",
       "      <td>python-requests/2.21.0</td>\n",
       "      <td>97.105.19.58</td>\n",
       "    </tr>\n",
       "  </tbody>\n",
       "</table>\n",
       "</div>"
      ],
      "text/plain": [
       "  method                         path                timestamp http_version  \\\n",
       "0    GET        /api/v1/sales?page=86  16/Apr/2019:193452+0000     HTTP/1.1   \n",
       "1   POST  /users_accounts/file-upload  16/Apr/2019:193452+0000     HTTP/1.1   \n",
       "2    GET         /api/v1/items?page=3  16/Apr/2019:193453+0000     HTTP/1.1   \n",
       "\n",
       "  status_code   bytes                                         user_agent  \\\n",
       "0         200  510348                             python-requests/2.21.0   \n",
       "1         201      42  User-Agent: Mozilla/5.0 (X11; Fedora; Fedora; ...   \n",
       "2         429    3561                             python-requests/2.21.0   \n",
       "\n",
       "             ip  \n",
       "0  97.105.19.58  \n",
       "1  97.105.19.58  \n",
       "2  97.105.19.58  "
      ]
     },
     "execution_count": 49,
     "metadata": {},
     "output_type": "execute_result"
    }
   ],
   "source": [
    "df = pd.DataFrame(rows)\n",
    "df"
   ]
  },
  {
   "cell_type": "code",
   "execution_count": 50,
   "id": "2fd3b4da",
   "metadata": {},
   "outputs": [],
   "source": [
    "# let's make a column that is a boolean whether or not the path contained a query string\n",
    "# simple answer on one string: look for a question mark character\n",
    "def is_query_string(string):\n",
    "    return \"?\" in string"
   ]
  },
  {
   "cell_type": "code",
   "execution_count": 51,
   "id": "13c14d4f",
   "metadata": {},
   "outputs": [
    {
     "data": {
      "text/html": [
       "<div>\n",
       "<style scoped>\n",
       "    .dataframe tbody tr th:only-of-type {\n",
       "        vertical-align: middle;\n",
       "    }\n",
       "\n",
       "    .dataframe tbody tr th {\n",
       "        vertical-align: top;\n",
       "    }\n",
       "\n",
       "    .dataframe thead th {\n",
       "        text-align: right;\n",
       "    }\n",
       "</style>\n",
       "<table border=\"1\" class=\"dataframe\">\n",
       "  <thead>\n",
       "    <tr style=\"text-align: right;\">\n",
       "      <th></th>\n",
       "      <th>method</th>\n",
       "      <th>path</th>\n",
       "      <th>timestamp</th>\n",
       "      <th>http_version</th>\n",
       "      <th>status_code</th>\n",
       "      <th>bytes</th>\n",
       "      <th>user_agent</th>\n",
       "      <th>ip</th>\n",
       "      <th>has_query_string</th>\n",
       "    </tr>\n",
       "  </thead>\n",
       "  <tbody>\n",
       "    <tr>\n",
       "      <th>0</th>\n",
       "      <td>GET</td>\n",
       "      <td>/api/v1/sales?page=86</td>\n",
       "      <td>16/Apr/2019:193452+0000</td>\n",
       "      <td>HTTP/1.1</td>\n",
       "      <td>200</td>\n",
       "      <td>510348</td>\n",
       "      <td>python-requests/2.21.0</td>\n",
       "      <td>97.105.19.58</td>\n",
       "      <td>True</td>\n",
       "    </tr>\n",
       "    <tr>\n",
       "      <th>1</th>\n",
       "      <td>POST</td>\n",
       "      <td>/users_accounts/file-upload</td>\n",
       "      <td>16/Apr/2019:193452+0000</td>\n",
       "      <td>HTTP/1.1</td>\n",
       "      <td>201</td>\n",
       "      <td>42</td>\n",
       "      <td>User-Agent: Mozilla/5.0 (X11; Fedora; Fedora; ...</td>\n",
       "      <td>97.105.19.58</td>\n",
       "      <td>False</td>\n",
       "    </tr>\n",
       "    <tr>\n",
       "      <th>2</th>\n",
       "      <td>GET</td>\n",
       "      <td>/api/v1/items?page=3</td>\n",
       "      <td>16/Apr/2019:193453+0000</td>\n",
       "      <td>HTTP/1.1</td>\n",
       "      <td>429</td>\n",
       "      <td>3561</td>\n",
       "      <td>python-requests/2.21.0</td>\n",
       "      <td>97.105.19.58</td>\n",
       "      <td>True</td>\n",
       "    </tr>\n",
       "  </tbody>\n",
       "</table>\n",
       "</div>"
      ],
      "text/plain": [
       "  method                         path                timestamp http_version  \\\n",
       "0    GET        /api/v1/sales?page=86  16/Apr/2019:193452+0000     HTTP/1.1   \n",
       "1   POST  /users_accounts/file-upload  16/Apr/2019:193452+0000     HTTP/1.1   \n",
       "2    GET         /api/v1/items?page=3  16/Apr/2019:193453+0000     HTTP/1.1   \n",
       "\n",
       "  status_code   bytes                                         user_agent  \\\n",
       "0         200  510348                             python-requests/2.21.0   \n",
       "1         201      42  User-Agent: Mozilla/5.0 (X11; Fedora; Fedora; ...   \n",
       "2         429    3561                             python-requests/2.21.0   \n",
       "\n",
       "             ip  has_query_string  \n",
       "0  97.105.19.58              True  \n",
       "1  97.105.19.58             False  \n",
       "2  97.105.19.58              True  "
      ]
     },
     "execution_count": 51,
     "metadata": {},
     "output_type": "execute_result"
    }
   ],
   "source": [
    "# df[\"has_query_string\"] = df[\"path\"].apply(lambda string: \"?\" in string)\n",
    "df[\"has_query_string\"] = df[\"path\"].apply(is_query_string)\n",
    "df"
   ]
  },
  {
   "cell_type": "markdown",
   "id": "3ee7923f",
   "metadata": {},
   "source": [
    "### Bonus Exercise\n",
    "\n",
    "You can find a list of words on your mac at /usr/share/dict/words. Use this file to answer the following questions:\n",
    "\n",
    "- How many words have at least 3 vowels?\n",
    "- How many words have at least 3 vowels in a row?\n",
    "- How many words have at least 4 consonants in a row?\n",
    "- How many words start and end with the same letter?\n",
    "- How many words start and end with a vowel?\n",
    "- How many words contain the same letter 3 times in a row?\n",
    "- What other interesting patterns in words can you find?"
   ]
  },
  {
   "cell_type": "code",
   "execution_count": 52,
   "id": "e89599be",
   "metadata": {},
   "outputs": [
    {
     "data": {
      "text/html": [
       "<div>\n",
       "<style scoped>\n",
       "    .dataframe tbody tr th:only-of-type {\n",
       "        vertical-align: middle;\n",
       "    }\n",
       "\n",
       "    .dataframe tbody tr th {\n",
       "        vertical-align: top;\n",
       "    }\n",
       "\n",
       "    .dataframe thead th {\n",
       "        text-align: right;\n",
       "    }\n",
       "</style>\n",
       "<table border=\"1\" class=\"dataframe\">\n",
       "  <thead>\n",
       "    <tr style=\"text-align: right;\">\n",
       "      <th></th>\n",
       "      <th>word</th>\n",
       "    </tr>\n",
       "  </thead>\n",
       "  <tbody>\n",
       "    <tr>\n",
       "      <th>0</th>\n",
       "      <td>A</td>\n",
       "    </tr>\n",
       "    <tr>\n",
       "      <th>1</th>\n",
       "      <td>a</td>\n",
       "    </tr>\n",
       "    <tr>\n",
       "      <th>2</th>\n",
       "      <td>aa</td>\n",
       "    </tr>\n",
       "    <tr>\n",
       "      <th>3</th>\n",
       "      <td>aal</td>\n",
       "    </tr>\n",
       "    <tr>\n",
       "      <th>4</th>\n",
       "      <td>aalii</td>\n",
       "    </tr>\n",
       "  </tbody>\n",
       "</table>\n",
       "</div>"
      ],
      "text/plain": [
       "    word\n",
       "0      A\n",
       "1      a\n",
       "2     aa\n",
       "3    aal\n",
       "4  aalii"
      ]
     },
     "execution_count": 52,
     "metadata": {},
     "output_type": "execute_result"
    }
   ],
   "source": [
    "df = pd.read_csv(\"/usr/share/dict/words\", header=None)\n",
    "df.columns = [\"word\"]\n",
    "df.head()"
   ]
  },
  {
   "cell_type": "code",
   "execution_count": 54,
   "id": "f3f9c2a8",
   "metadata": {},
   "outputs": [],
   "source": [
    "three_or_more_vowels = df.word.str.count(r\"[aeiouAEIOU]\") >= 3\n"
   ]
  },
  {
   "cell_type": "code",
   "execution_count": 55,
   "id": "3abb57a9",
   "metadata": {},
   "outputs": [
    {
     "data": {
      "text/html": [
       "<div>\n",
       "<style scoped>\n",
       "    .dataframe tbody tr th:only-of-type {\n",
       "        vertical-align: middle;\n",
       "    }\n",
       "\n",
       "    .dataframe tbody tr th {\n",
       "        vertical-align: top;\n",
       "    }\n",
       "\n",
       "    .dataframe thead th {\n",
       "        text-align: right;\n",
       "    }\n",
       "</style>\n",
       "<table border=\"1\" class=\"dataframe\">\n",
       "  <thead>\n",
       "    <tr style=\"text-align: right;\">\n",
       "      <th></th>\n",
       "      <th>word</th>\n",
       "    </tr>\n",
       "  </thead>\n",
       "  <tbody>\n",
       "    <tr>\n",
       "      <th>4</th>\n",
       "      <td>aalii</td>\n",
       "    </tr>\n",
       "    <tr>\n",
       "      <th>6</th>\n",
       "      <td>Aani</td>\n",
       "    </tr>\n",
       "    <tr>\n",
       "      <th>7</th>\n",
       "      <td>aardvark</td>\n",
       "    </tr>\n",
       "    <tr>\n",
       "      <th>8</th>\n",
       "      <td>aardwolf</td>\n",
       "    </tr>\n",
       "    <tr>\n",
       "      <th>9</th>\n",
       "      <td>Aaron</td>\n",
       "    </tr>\n",
       "    <tr>\n",
       "      <th>...</th>\n",
       "      <td>...</td>\n",
       "    </tr>\n",
       "    <tr>\n",
       "      <th>235874</th>\n",
       "      <td>zymotically</td>\n",
       "    </tr>\n",
       "    <tr>\n",
       "      <th>235875</th>\n",
       "      <td>zymotize</td>\n",
       "    </tr>\n",
       "    <tr>\n",
       "      <th>235876</th>\n",
       "      <td>zymotoxic</td>\n",
       "    </tr>\n",
       "    <tr>\n",
       "      <th>235878</th>\n",
       "      <td>Zyrenian</td>\n",
       "    </tr>\n",
       "    <tr>\n",
       "      <th>235885</th>\n",
       "      <td>Zyzzogeton</td>\n",
       "    </tr>\n",
       "  </tbody>\n",
       "</table>\n",
       "<p>191365 rows × 1 columns</p>\n",
       "</div>"
      ],
      "text/plain": [
       "               word\n",
       "4             aalii\n",
       "6              Aani\n",
       "7          aardvark\n",
       "8          aardwolf\n",
       "9             Aaron\n",
       "...             ...\n",
       "235874  zymotically\n",
       "235875     zymotize\n",
       "235876    zymotoxic\n",
       "235878     Zyrenian\n",
       "235885   Zyzzogeton\n",
       "\n",
       "[191365 rows x 1 columns]"
      ]
     },
     "execution_count": 55,
     "metadata": {},
     "output_type": "execute_result"
    }
   ],
   "source": [
    "# How many words have at least 3 vowels\n",
    "df[three_or_more_vowels]"
   ]
  },
  {
   "cell_type": "code",
   "execution_count": 56,
   "id": "c1d04e39",
   "metadata": {},
   "outputs": [
    {
     "data": {
      "text/html": [
       "<div>\n",
       "<style scoped>\n",
       "    .dataframe tbody tr th:only-of-type {\n",
       "        vertical-align: middle;\n",
       "    }\n",
       "\n",
       "    .dataframe tbody tr th {\n",
       "        vertical-align: top;\n",
       "    }\n",
       "\n",
       "    .dataframe thead th {\n",
       "        text-align: right;\n",
       "    }\n",
       "</style>\n",
       "<table border=\"1\" class=\"dataframe\">\n",
       "  <thead>\n",
       "    <tr style=\"text-align: right;\">\n",
       "      <th></th>\n",
       "      <th>word</th>\n",
       "    </tr>\n",
       "  </thead>\n",
       "  <tbody>\n",
       "    <tr>\n",
       "      <th>234</th>\n",
       "      <td>Abietineae</td>\n",
       "    </tr>\n",
       "    <tr>\n",
       "      <th>235</th>\n",
       "      <td>abietineous</td>\n",
       "    </tr>\n",
       "    <tr>\n",
       "      <th>301</th>\n",
       "      <td>ablatitious</td>\n",
       "    </tr>\n",
       "    <tr>\n",
       "      <th>434</th>\n",
       "      <td>abranchious</td>\n",
       "    </tr>\n",
       "    <tr>\n",
       "      <th>507</th>\n",
       "      <td>absenteeism</td>\n",
       "    </tr>\n",
       "    <tr>\n",
       "      <th>...</th>\n",
       "      <td>...</td>\n",
       "    </tr>\n",
       "    <tr>\n",
       "      <th>235800</th>\n",
       "      <td>Zygophyceae</td>\n",
       "    </tr>\n",
       "    <tr>\n",
       "      <th>235801</th>\n",
       "      <td>zygophyceous</td>\n",
       "    </tr>\n",
       "    <tr>\n",
       "      <th>235802</th>\n",
       "      <td>Zygophyllaceae</td>\n",
       "    </tr>\n",
       "    <tr>\n",
       "      <th>235803</th>\n",
       "      <td>zygophyllaceous</td>\n",
       "    </tr>\n",
       "    <tr>\n",
       "      <th>235808</th>\n",
       "      <td>Zygopteraceae</td>\n",
       "    </tr>\n",
       "  </tbody>\n",
       "</table>\n",
       "<p>6182 rows × 1 columns</p>\n",
       "</div>"
      ],
      "text/plain": [
       "                   word\n",
       "234          Abietineae\n",
       "235         abietineous\n",
       "301         ablatitious\n",
       "434         abranchious\n",
       "507         absenteeism\n",
       "...                 ...\n",
       "235800      Zygophyceae\n",
       "235801     zygophyceous\n",
       "235802   Zygophyllaceae\n",
       "235803  zygophyllaceous\n",
       "235808    Zygopteraceae\n",
       "\n",
       "[6182 rows x 1 columns]"
      ]
     },
     "execution_count": 56,
     "metadata": {},
     "output_type": "execute_result"
    }
   ],
   "source": [
    "# How many words have at least 3 vowels in a row?\n",
    "df[df.word.str.count(r\"[aeiouAEIOU]{3}\") > 0]"
   ]
  },
  {
   "cell_type": "code",
   "execution_count": null,
   "id": "4236d036",
   "metadata": {},
   "outputs": [],
   "source": []
  }
 ],
 "metadata": {
  "kernelspec": {
   "display_name": "Python 3",
   "language": "python",
   "name": "python3"
  },
  "language_info": {
   "codemirror_mode": {
    "name": "ipython",
    "version": 3
   },
   "file_extension": ".py",
   "mimetype": "text/x-python",
   "name": "python",
   "nbconvert_exporter": "python",
   "pygments_lexer": "ipython3",
   "version": "3.8.8"
  }
 },
 "nbformat": 4,
 "nbformat_minor": 5
}
